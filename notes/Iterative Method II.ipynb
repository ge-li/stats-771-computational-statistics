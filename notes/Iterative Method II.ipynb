{
 "cells": [
  {
   "cell_type": "markdown",
   "metadata": {},
   "source": [
    "# Lecture 10\n",
    "\n",
    "**HW problem**\n",
    "\n",
    "- 1.Implement Jacobi, GS without using \"\\\" operator\n",
    "- 2.Implement SOR, SSOR without using \"\\\" operator\n",
    "- 3.Randomly generate problems and \n",
    "    \n",
    "        a. at each iteration record residual norm and abs.\n",
    "        b. Compare rate of convergence against spectral radius.\n",
    "        c. Put all this information into a narrative use graphics."
   ]
  },
  {
   "cell_type": "markdown",
   "metadata": {},
   "source": [
    "## Implement Jacobi and Gauss-Seidel\n",
    "\n",
    "### Jacobi implementation \n",
    "\n"
   ]
  },
  {
   "cell_type": "code",
   "execution_count": 21,
   "metadata": {},
   "outputs": [
    {
     "data": {
      "text/plain": [
       "jacobiIteration (generic function with 1 method)"
      ]
     },
     "execution_count": 21,
     "metadata": {},
     "output_type": "execute_result"
    }
   ],
   "source": [
    "using LinearAlgebra\n",
    "\n",
    "# Implementation of Jacobi without using '\\'\n",
    "function jacobiIteration(A, b, x; iterMax = 100)\n",
    "    \"\"\"Implements the Jacobi iteration without using backslash.\n",
    "    A is the coefficient matrix.\n",
    "    b is the constant matrix.\n",
    "    x is an initial guess.\"\"\"\n",
    "    n = length(x)\n",
    "    for i = 1:iterMax\n",
    "        xk = x\n",
    "        for j = 1:n\n",
    "            x[j] = 1/A[j,j]*(b[j] - vcat(A[j,1:j-1],A[j,j+1:end])' * vcat(xk[1:j-1],xk[j+1:end]) ) \n",
    "        end\n",
    "    end\n",
    "    return x\n",
    "end"
   ]
  },
  {
   "cell_type": "markdown",
   "metadata": {},
   "source": [
    "### Gauss-Seidel implementation "
   ]
  },
  {
   "cell_type": "code",
   "execution_count": 22,
   "metadata": {},
   "outputs": [
    {
     "data": {
      "text/plain": [
       "gsIteration (generic function with 1 method)"
      ]
     },
     "execution_count": 22,
     "metadata": {},
     "output_type": "execute_result"
    }
   ],
   "source": [
    "# Implementation of Gauss-Seidel without using '\\'\n",
    "function gsIteration(A, b, x; iterMax = 100)\n",
    "    \"\"\"Implements the Gauss-Seidel iteration without using backslash.\n",
    "    A is the coefficient matrix.\n",
    "    b is the constant matrix.\n",
    "    x is an initial guess.\"\"\"\n",
    "    n = length(x)\n",
    "    for i = 1:iterMax\n",
    "        xk = x\n",
    "        for j = 1:n\n",
    "            x[j] = 1/A[j,j]*(b[j] - A[j,1:j-1]'*x[1:j-1] - (A[j,j+1:end])'*xk[j+1:end])\n",
    "        end\n",
    "    end\n",
    "    return x\n",
    "end"
   ]
  },
  {
   "cell_type": "markdown",
   "metadata": {},
   "source": [
    "## Implement SOR and SSOR\n",
    "\n",
    "### SOR implementation"
   ]
  },
  {
   "cell_type": "code",
   "execution_count": 23,
   "metadata": {},
   "outputs": [
    {
     "data": {
      "text/plain": [
       "sorIteration (generic function with 1 method)"
      ]
     },
     "execution_count": 23,
     "metadata": {},
     "output_type": "execute_result"
    }
   ],
   "source": [
    "# Implement SOR without using '\\'\n",
    "function sorIteration(A, b, x, w; iterMax = 100)\n",
    "    \"\"\"Implements the SOR iteration without using backslash.\n",
    "    A is the coefficient matrix.\n",
    "    b is the constant matrix.\n",
    "    x is an initial guess.\n",
    "    w is a number between (0,1]\"\"\"\n",
    "    n = length(x)\n",
    "    for i = 1:iterMax\n",
    "        xk = x\n",
    "        for j = 1:n\n",
    "            x[j] = w/A[j,j]*(b[j] - A[j,1:j-1]'*x[1:j-1] - (A[j,j+1:end])'*xk[j+1:end]) + (1-w)*xk[j]\n",
    "        end\n",
    "    end\n",
    "    return x\n",
    "end"
   ]
  },
  {
   "cell_type": "markdown",
   "metadata": {},
   "source": [
    "### SSOR implementation"
   ]
  },
  {
   "cell_type": "code",
   "execution_count": 24,
   "metadata": {},
   "outputs": [
    {
     "data": {
      "text/plain": [
       "ssorIteration (generic function with 1 method)"
      ]
     },
     "execution_count": 24,
     "metadata": {},
     "output_type": "execute_result"
    }
   ],
   "source": [
    "# Implement SSOR without using '\\'\n",
    "function ssorIteration(A, b, x, w; iterMax = 100)\n",
    "    \"\"\"Implements the SSOR iteration without using backslash.\n",
    "    A is the coefficient matrix.\n",
    "    b is the constant matrix.\n",
    "    x is an initial guess.\n",
    "    w is a number between (0,1]\"\"\"\n",
    "    n = length(x)\n",
    "    for i = 1:iterMax\n",
    "        xk = x\n",
    "        for j = 1:n\n",
    "            x[j] = w/A[j,j]*(b[j] - A[j,1:j-1]'*x[1:j-1] - (A[j,j+1:end])'*xk[j+1:end]) + (1-w)*xk[j]\n",
    "        end\n",
    "        xk = x\n",
    "        for j = 1:n\n",
    "            x[j] = w/A[j,j]*(b[j] - A[j,1:j-1]'*xk[1:j-1] - (A[j,j+1:end])'*x[j+1:end]) + (1-w)*xk[j]\n",
    "        end\n",
    "    end\n",
    "    return x\n",
    "end"
   ]
  },
  {
   "cell_type": "markdown",
   "metadata": {},
   "source": [
    "#### Generate problem and test"
   ]
  },
  {
   "cell_type": "code",
   "execution_count": 25,
   "metadata": {},
   "outputs": [
    {
     "name": "stdout",
     "output_type": "stream",
     "text": [
      "2.3347490579409934e-11\n",
      "2.3347203926023393e-11\n",
      "2.2151899190434225e-11\n",
      "5.057306561942087e-16\n"
     ]
    }
   ],
   "source": [
    "function generateProblem(n)\n",
    "    A = randn(n,n)  + sqrt(n)*Matrix{Float64}(I,n,n)\n",
    "    x = randn(n)\n",
    "    x0 = randn(n)\n",
    "    b = A*x\n",
    "    return A, b, x, x0\n",
    "end\n",
    "\n",
    "using Random\n",
    "Random.seed!(1223);\n",
    "A, b, x, x0 = generateProblem(10)\n",
    "\n",
    "x00 = copy(x0)\n",
    "z_j = jacobiIteration(A,b,x00)\n",
    "\n",
    "x00 = copy(x0)\n",
    "z_gs = gsIteration(A,b,x00)\n",
    "\n",
    "w = 0.5\n",
    "x00 = copy(x0)\n",
    "z_sor = sorIteration(A,b,x00,w)\n",
    "\n",
    "x00 = copy(x0)\n",
    "z_ssor = ssorIteration(A,b,x00,w)\n",
    "\n",
    "println(norm(z_j-x))\n",
    "println(norm(z_gs-x))\n",
    "println(norm(z_sor-x))\n",
    "println(norm(z_ssor-x))"
   ]
  },
  {
   "cell_type": "markdown",
   "metadata": {},
   "source": [
    "#### Plot Norm of the residual of each iteration"
   ]
  },
  {
   "cell_type": "code",
   "execution_count": 32,
   "metadata": {},
   "outputs": [
    {
     "data": {
      "text/plain": [
       "([0.981093, 0.526333, -0.179568, 0.723011, 0.647926, 1.87829, -0.449482, -1.16777, -1.37845, -3.01752], [5.38479, 2.08277, 0.800391, 0.309328, 0.11268, 0.0405078, 0.0163859, 0.00730392, 0.00419779, 0.00286837  …  5.6882e-16, 5.6882e-16, 5.6882e-16, 5.6882e-16, 5.6882e-16, 5.6882e-16, 5.6882e-16, 5.6882e-16, 5.6882e-16, 5.6882e-16])"
      ]
     },
     "execution_count": 32,
     "metadata": {},
     "output_type": "execute_result"
    }
   ],
   "source": [
    "# Implementation of Jacobi without using '\\'\n",
    "function jacobiIteration2(A, b, x, xreal; iterMax = 100)\n",
    "    \"\"\"Implements the Jacobi iteration without using backslash.\n",
    "    A is the coefficient matrix.\n",
    "    b is the constant matrix.\n",
    "    x is an initial guess.\n",
    "    xreal is the true value, i.e. A * xreal = b\"\"\"\n",
    "    n = length(x)\n",
    "    r = zeros(iterMax)\n",
    "    for i = 1:iterMax\n",
    "        r[i] = norm(x - xreal)\n",
    "        xk = x\n",
    "        for j = 1:n\n",
    "            x[j] = 1/A[j,j]*(b[j] - vcat(A[j,1:j-1],A[j,j+1:end])' * vcat(xk[1:j-1],xk[j+1:end]) ) \n",
    "        end\n",
    "    end\n",
    "    return x, r\n",
    "end\n",
    "\n",
    "# Implementation of Gauss-Seidel without using '\\'\n",
    "function gsIteration2(A, b, x,xreal; iterMax = 100)\n",
    "    \"\"\"Implements the Gauss-Seidel iteration without using backslash.\n",
    "    A is the coefficient matrix.\n",
    "    b is the constant matrix.\n",
    "    x is an initial guess.\"\"\"\n",
    "    n = length(x)\n",
    "    r = zeros(iterMax)\n",
    "    for i = 1:iterMax\n",
    "        r[i] = norm(x - xreal)\n",
    "        xk = x\n",
    "        for j = 1:n\n",
    "            x[j] = 1/A[j,j]*(b[j] - A[j,1:j-1]'*x[1:j-1] - (A[j,j+1:end])'*xk[j+1:end])\n",
    "        end\n",
    "    end\n",
    "    return x,r\n",
    "end\n",
    "\n",
    "# Implement SOR without using '\\'\n",
    "function sorIteration2(A, b, x,xreal,w; iterMax = 100)\n",
    "    \"\"\"Implements the SOR iteration without using backslash.\n",
    "    A is the coefficient matrix.\n",
    "    b is the constant matrix.\n",
    "    x is an initial guess.\n",
    "    w is a number between (0,1]\"\"\"\n",
    "    n = length(x)\n",
    "    r = zeros(iterMax)\n",
    "    for i = 1:iterMax\n",
    "        r[i] = norm(x - xreal)\n",
    "        xk = x\n",
    "        for j = 1:n\n",
    "            x[j] = w/A[j,j]*(b[j] - A[j,1:j-1]'*x[1:j-1] - (A[j,j+1:end])'*xk[j+1:end]) + (1-w)*xk[j]\n",
    "        end\n",
    "    end\n",
    "    return x,r\n",
    "end\n",
    "        \n",
    "# Implement SSOR without using '\\'\n",
    "function ssorIteration2(A, b, x,xreal, w; iterMax = 100)\n",
    "    \"\"\"Implements the SSOR iteration without using backslash.\n",
    "    A is the coefficient matrix.\n",
    "    b is the constant matrix.\n",
    "    x is an initial guess.\n",
    "    w is a number between (0,1]\"\"\"\n",
    "    n = length(x)\n",
    "    r = zeros(iterMax)\n",
    "    for i = 1:iterMax\n",
    "        r[i] = norm(x - xreal)\n",
    "        xk = x\n",
    "        for j = 1:n\n",
    "            x[j] = w/A[j,j]*(b[j] - A[j,1:j-1]'*x[1:j-1] - (A[j,j+1:end])'*xk[j+1:end]) + (1-w)*xk[j]\n",
    "        end\n",
    "        xk = x\n",
    "        for j = 1:n\n",
    "            x[j] = w/A[j,j]*(b[j] - A[j,1:j-1]'*xk[1:j-1] - (A[j,j+1:end])'*x[j+1:end]) + (1-w)*xk[j]\n",
    "        end\n",
    "    end\n",
    "    return x,r\n",
    "end\n",
    "\n",
    "\n",
    "\n",
    "using Random\n",
    "Random.seed!(2020);\n",
    "A, b, xtrue, x0 = generateProblem(10)\n",
    "\n",
    "x00 = copy(x0)\n",
    "z_j, r_j = jacobiIteration2(A,b,x00,xtrue)\n",
    "\n",
    "x00 = copy(x0)\n",
    "z_gs, r_gs = gsIteration2(A,b,x00,xtrue)\n",
    "\n",
    "w = 0.5\n",
    "x00 = copy(x0)\n",
    "z_sor, r_sor = sorIteration2(A,b,x00,xtrue,w)\n",
    "\n",
    "x00 = copy(x0)\n",
    "z_ssor, r_ssor = ssorIteration2(A,b,x00,xtrue,w)\n"
   ]
  },
  {
   "cell_type": "code",
   "execution_count": 33,
   "metadata": {},
   "outputs": [
    {
     "data": {
      "image/png": "[encoded data removed]",
      "text/plain": [
       "Figure(PyObject <Figure size 640x480 with 1 Axes>)"
      ]
     },
     "metadata": {},
     "output_type": "display_data"
    },
    {
     "data": {
      "text/plain": [
       "PyObject <matplotlib.legend.Legend object at 0x13b37c978>"
      ]
     },
     "execution_count": 33,
     "metadata": {},
     "output_type": "execute_result"
    }
   ],
   "source": [
    "using PyPlot\n",
    "\n",
    "R = hcat(r_j,r_gs,r_sor,r_ssor)\n",
    "\n",
    "fig, ax = subplots()\n",
    "ax[:plot](1:100, R[:,1], label=\"Jacobi\")\n",
    "ax[:plot](1:100, R[:,2],alpha=0.4, label=\"GS\")\n",
    "ax[:plot](1:100, R[:,3], label=\"SOR\")\n",
    "ax[:plot](1:100, R[:,4], label=\"SSOR\")\n",
    "legend()"
   ]
  },
  {
   "cell_type": "code",
   "execution_count": 37,
   "metadata": {},
   "outputs": [
    {
     "data": {
      "text/plain": [
       "10-element Array{Float64,1}:\n",
       " 5.653325801516873 \n",
       " 5.653325801516873 \n",
       " 4.591597178843694 \n",
       " 3.8894126741876556\n",
       " 3.8894126741876556\n",
       " 1.8410667023693745\n",
       " 1.8410667023693745\n",
       " 3.263152253059062 \n",
       " 3.263152253059062 \n",
       " 2.2099302973600166"
      ]
     },
     "execution_count": 37,
     "metadata": {},
     "output_type": "execute_result"
    }
   ],
   "source": [
    "norm.(eigvals!(A))"
   ]
  },
  {
   "cell_type": "markdown",
   "metadata": {},
   "source": [
    "**For the topic of spectral radius, check the homework 3 of cs 726**"
   ]
  },
  {
   "cell_type": "markdown",
   "metadata": {},
   "source": [
    "## III. Randomized Kaezmarz Model"
   ]
  },
  {
   "cell_type": "markdown",
   "metadata": {},
   "source": [
    "When problems become too large (too many data points,\n",
    "too many model parameters), $SVD$ and related approaches\n",
    "become impractical.\n",
    "Very popular alternatives utilize \"iterative\" methods to\n",
    "obtain approximate solutions.\n",
    "In many cases for large problems, the $G$ matrix will be\n",
    "sparse (many many zero elements), so strategies to take\n",
    "advantage of this characteristic are important. \n",
    "\n",
    "\n",
    "**Set up:**\n",
    "\n",
    "Let $x^c$ denote current iterate and $x^+$ denote next iterate. \n",
    "\n",
    "$r^c = Ax^c - b$ current residual; $r^+ = Ax^+ - b$ next residual.\n",
    "\n",
    "$Ax = b$, $A = \\begin{pmatrix}a_1 \\\\ \\vdots \\\\ a_n \\end{pmatrix}$, $b = \\begin{pmatrix}b_1 \\\\ \\vdots \\\\ b_n \\end{pmatrix}$"
   ]
  },
  {
   "cell_type": "markdown",
   "metadata": {},
   "source": [
    "<font color=brown>**Kazcmarz Method:**</font>\n",
    "\n",
    "$$x^+ = x^c + \\frac{b_i - a_ix^c}{||a_i||_2^2}a_i$$\n",
    "\n",
    "<font color=brown>** Randomized Kazcmarz Method:**</font>\n",
    "\n",
    "$$i_1,i_2,\\cdots \\in \\{1, \\cdots, n\\}, \\,\\,\\, P(i_1 = l) = \\frac{||a_l||_2^2}{||A||_F^2}$$"
   ]
  },
  {
   "cell_type": "markdown",
   "metadata": {},
   "source": [
    "<font color=brown>**Reference:**</font>\n",
    "\n",
    "**Geometrical interpretation of Kazcmarz Method and Randomized Kazcmarz Method:**\n",
    "\n",
    "https://www.math.ucla.edu/~deanna/Banfftalk.pdf"
   ]
  },
  {
   "cell_type": "markdown",
   "metadata": {},
   "source": [
    "<font color=brown>**Theorem:**</font>\n",
    "\n",
    "Suppose $A$ is invertible and $x^* = A^{-1}b$. Given iid $\\{i_j, j \\in N\\}$, $P(i_1 = l) = \\frac{||a_l||_2^2}{||A||_F^2}$. Given $x^0$, $\\{x_k, k\\in N\\}$ s.t. $x_k = x_{k-1} + (\\frac{b_{i_k} - a_{i_k}^Tx_{k-1}}{||a_{i_k}||_2^2})a_{i_k}$, then\n",
    "\n",
    "$$E[||x_k - x^*||_2^2] \\leq (1 - \\frac{\\sigma_{min}(A)^2}{||A||_F^2})^k \\times ||x_0 - x^*||_2^2$$\n",
    "$$P(||x_i - x^*||_2^2 > \\epsilon) \\leq \\frac{1}{\\epsilon^2}E[||x_i - x^*||_2^2]$$\n",
    "$$\\{i_{j+1}, j \\in N\\},\\,\\,\\, x_k = x_{k-1} + \\frac{b_{i_{k-1}} - a_{i_{k-1}}^Tx_{k-1}}{||a_{i_k}||_2^2}a_{i_k}$$"
   ]
  },
  {
   "cell_type": "markdown",
   "metadata": {},
   "source": [
    "**Proof:** First, note that $i_k$ is independent of $i_{k+1}, i_{k-1}, \\cdots, 0$ and is independent of $x_k, x_{k-1}, \\cdots, x_1$\n",
    "\n",
    "- **HW problem:Observation 1:**  $x_{k+1} - x_{k}$ is orthogonal to $x_{k+1} - x^*$ \n",
    "\n",
    "**proof of observation 1:**\n",
    "\n",
    "Want to show $(x_{k+1} - x_{k})^T(x_{k+1} - x^*) = 0$\n",
    "\n",
    "$$(x_{k+1} - x_{k})^T(x_{k+1} - x^*) = \\frac{b_{i_{k+1}} - a_{i_{k+1}}^Tx_{k}}{||a_{i_{k+1}}||_2^2}a_{i_{k+1}}^T(x_{k+1} - x^*) = \\frac{b_{i_{k+1}} - a_{i_{k+1}}^Tx_{k}}{||a_{i_{k+1}}||_2^2}(a_{i_{k+1}}^Tx_{k+1} - a_{i_{k+1}}^Tx^*) = \\frac{b_{i_{k+1}} - a_{i_{k+1}}^Tx_{k}}{||a_{i_{k+1}}||_2^2}(b_{i_{k+1}} - b_{i_{k+1}}) = 0$$\n",
    "\n",
    "By using the fact of observation 1. We get \n",
    "$$||x_{k+1} - x^*||_2^2 = ||x_{k} - x^*||_2^2 - ||x_{k+1} - x_k||_2^2$$\n",
    "We know that: $b_{i_k} = a_{i_k}^Tx^*$. Thus,\n",
    "$$x_{k+1} - x_k = \\frac{a_{i_k}a_{i_k}^T}{||a_{i_k}||_2^2}(x_k - x^*)$$\n",
    "$$||x_{k+1} - x_k||_2^2 = ||a_{i_k}||_2^2\\frac{(a_{i_k}^T(x_k - x^*))^2}{||a_{i_k}||_2^4} = \\frac{(a_{i_k}^T(x_k - x^*))^2}{||a_{i_k}||_2^2}$$\n",
    "\n",
    "**observation 2:** for any vector $y \\in R^n$ we have \n",
    "$$E[\\frac{(a_{i_0}^Ty)^2}{||a_{i_0}||_2^2}] \\geq \\frac{\\sigma_{min}(A)^2}{||A||_F^2}||y||_2^2$$\n",
    "\n",
    "**Note:** \n",
    "$$\\sum_{i = 1}^{n} (a_i^Ty)^2 = ||Ay||_2^2 \\geq \\sigma_{min}(A)^2||y||_2^2$$\n",
    "$$\\sum_{i = 1}^{n} \\frac{1}{||A||_F^2}(a_i^Ty)^2 \\geq \\frac{\\sigma_{min}(A)^2}{||A||_F^2}||y||_2^2$$\n",
    "$$\\implies \\sum_{i = 1}^{n} \\frac{||a_i||_2^2}{||A||_F^2}\\frac{(a_i^Ty)^2}{||a_i||_2^2} \\geq \\frac{\\sigma_{min}(A)^2}{||A||_F^2}||y||_2^2 $$\n",
    "$$\\implies E[\\frac{(a_{i_0}^Ty)^2}{||a_{i_0}||_2^2}] \\geq \\frac{\\sigma_{min}(A)^2}{||A||_F^2}||y||_2^2$$\n",
    "\n",
    "Therefore, \n",
    "\n",
    "$$\\begin{align} E[||x_{k+1} - x^*||_2^2 | x_k] &= ||x_{k} - x^*||_2^2 - E[\\frac{(a_{i_k}^T(x_k - x^*))^2}{||a_{i_k}||_2^2} | x_k] \\\\\n",
    "& \\leq  (1-  \\frac{\\sigma_{min}(A)^2}{||A||_F^2}) ||x_k - x^*||_2^2\\end{align}$$\n",
    "\n",
    "Take Expectation on both side, we get:\n",
    "\n",
    "$$E[||x_{k+1} - x^*||_2^2] \\leq (1-  \\frac{\\sigma_{min}(A)^2}{||A||_F^2}) E[||x_k - x^*||_2^2]$$\n",
    "\n",
    "Thus,\n",
    "$$E[||x_k - x^*||_2^2] \\leq (1 - \\frac{\\sigma_{min}(A)^2}{||A||_F^2})^k \\times ||x_0 - x^*||_2^2$$\n"
   ]
  },
  {
   "cell_type": "markdown",
   "metadata": {},
   "source": [
    "**HW problem:**\n",
    "\n",
    "- 1.Implement Rankdom Kaezmarz for random permutations\n",
    "- 2.Give a comparison of cyclic, randomized, rand permutation kaezmarz method"
   ]
  },
  {
   "cell_type": "markdown",
   "metadata": {},
   "source": [
    "## IV. Gradient Descent"
   ]
  },
  {
   "cell_type": "markdown",
   "metadata": {},
   "source": [
    "<font color=brown>**Kazcmarz Method:**</font>\n",
    "\n",
    "$$x^+ = x^c + \\frac{b_i - a_ix^c}{||a_i||_2^2}a_i$$\n",
    "\n",
    "<font color=brown>**Gradient descent:**</font>\n",
    "\n",
    "$$\\begin{align} x^+ &= x^c + \\alpha \\sum_{i=1}^{n}a_i(b_i - a_i^Tx^c)\\\\\n",
    "&= x^c + \\alpha A^T(b-Ax^c)\\end{align}$$"
   ]
  },
  {
   "cell_type": "markdown",
   "metadata": {},
   "source": [
    "**HW problem:** Show $\\sum_{i=1}^{n}a_i(b_i - a_i^Tx^c) = A^T(b-Ax^c)$\n",
    "\n",
    "**My answer:** Here remember our set up: $a_i$ is a column vector but it is the row vector of matrix $A$\n",
    "\n",
    "$A^T(b-Ax^c) = \\begin{pmatrix} a_1, \\cdots, a_n \\end{pmatrix}(b - Ax^c) = \\sum_{i=1}^{n}a_i(b_i - a_i^Tx^c)$"
   ]
  },
  {
   "cell_type": "markdown",
   "metadata": {},
   "source": [
    "**HW problem:** If $A^Tr^c = 0$. Then we solve our problem\n",
    "\n",
    "**My answer:** $x^+= x^c + \\alpha A^T(b-Ax^c) = x^c + \\alpha A^Tr^c = x^c$"
   ]
  },
  {
   "cell_type": "markdown",
   "metadata": {},
   "source": [
    "<font color=brown>**Strategy 1: **</font>$r^+ = Ax^+ - b$, $min_\\alpha ||r^+||_2^2$\n",
    "\n",
    "<font color=brown>**Lemma:**</font> The $\\alpha$ that minimizes the above problem is $$\\alpha = \\frac{||A^Tr^c||_2^2}{||AA^Tr^c||_2^2}$$"
   ]
  },
  {
   "cell_type": "markdown",
   "metadata": {},
   "source": [
    "**proof:** \n",
    "\n",
    "$$\\begin{align} g(\\alpha) &= ||r^+||_2^2 = ||Ax^+ - b||_2^2 = ||Ax^c - b + \\alpha AA^T(b-Ax^c)||_2^2 \\\\\n",
    "&= ||-r^c + 2AA^Tr^c||_2^2 \\\\\n",
    "&= (-r^c + 2AA^Tr^c)^T-r^c + 2AA^Tr^c \\\\\n",
    "&= \\alpha^2||AA^Tr^c||_2^2 - 2||A^Tr^c||_2^2\\alpha + ||r^c||_2^2\n",
    "\\end{align}$$\n",
    "\n",
    "Taking derivative and set it to zero. Also, after checking second derivative, we can conclude that the solution for this optimization problem is : $$\\alpha = \\frac{||A^Tr^c||_2^2}{||AA^Tr^c||_2^2}$$"
   ]
  },
  {
   "cell_type": "markdown",
   "metadata": {},
   "source": [
    "<font color=brown>**Theorem:**</font> Suppose $A$ is invertible. Given $x_0 \\in R^A$, let $\\{x_k, k \\in N\\}$ s.t. $x_k = x_{k-1} + \\alpha_{k-1}A^T(b - Ax_{k-1})$, where $\\alpha_k = \\frac{||A^Tr_k||_2^2}{||AA^Tr_k||_2^2}$. Then,\n",
    "$$||r_k||_2^2 \\leq (1 - \\frac{4\\sigma_1^2\\sigma_n^2}{(\\sigma_1^2 + \\sigma_n^2)^2})^k ||r_0||_2^2$$"
   ]
  },
  {
   "cell_type": "markdown",
   "metadata": {},
   "source": [
    "**proof:** \n",
    "\n",
    "$$\\begin{align} ||r_{k+1}||_2^2 &= ||r_k||_2^2 - \\alpha_k 2||A^Tr_k||_2^2 + \\alpha_k||AA^Tr_k||_2^2 \\\\\n",
    "&= ||r_k||_2^2 - \\frac{2||A^Tr^k||_2^4}{||AA^Tr^k||_2^2} + \\frac{||A^Tr^k||_2^4}{||AA^Tr^k||_2^2} \\\\\n",
    "&= ||r_k||_2^2 - \\frac{||A^Tr^k||_2^4}{||AA^Tr^k||_2^2} \\\\\n",
    "&= (1 - \\frac{||A^Tr^k||_2^4}{||r_k||_2^2||AA^Tr^k||_2^2})||r_k||_2^2\n",
    "\\end{align}$$\n",
    "\n",
    "Using the SVD for matrix $A$, $A = U \\Sigma V^T$, and let $w = \\Sigma^TU^Tr^k$, we get \n",
    "$$(1 - \\frac{||A^Tr^k||_2^4}{||r_k||_2^2||AA^Tr^k||_2^2}) = (1 - \\frac{||\\Sigma^TU^Tr^k||_2^4}{||r_k||_2^2||\\Sigma\\Sigma^TU^Tr^k||_2^2}) = (1 - \\frac{||w||_2^4}{||\\Sigma^{-1}w||_2^2||\\Sigma2||_2^2})$$\n",
    "\n",
    "**HW problem:** Upper bound on  $||\\Sigma^{-1}u||_2^2$, $||\\Sigma u||_2^2$ for any unit vector u.\n",
    "\n",
    "**My answer:**\n",
    "Rememerber the notes in Lecture 7 and the notes in CS 726 Non-linear optimization:\n",
    "$$\\sigma_{max}(A) = \\max_{x \\neq 0}\\frac{||Ax||_2}{||x||_2} = ||A||_2$$\n",
    "$$\\sigma_{min}(A) = \\min_{x \\neq 0}\\frac{||Ax||_2}{||x||_2} $$\n",
    "\n",
    "We get:\n",
    "\n",
    "$$||\\Sigma^{-1}u||_2^2 \\leq \\frac{1}{\\sigma_1}$$\n",
    "$$||\\Sigma u||_2^2 \\leq {\\sigma_n}$$\n",
    "\n",
    "where, $0 \\leq \\sigma_1 \\leq \\cdots \\leq \\sigma_n$ are sigular value of A\n",
    "\n",
    "\n",
    "Further, \n",
    "\n",
    "$$||\\Sigma^{-1}u||_2^2 ||\\Sigma u||_2^2 = (\\sum_{i=1}^{n} \\frac{u_i^2}{\\sigma_i^2})(\\sum_{i=1}^{n}\\sigma_i^2u_i^2) \\leq \\frac{(\\sigma_1^2 + \\sigma_n^2)^2}{4\\sigma_1^2\\sigma_n^2}$$\n",
    "\n",
    "**HW problem:** Kantorovich. Suppose $p_i \\geq 0$ and sum to $1$. Let $0 \\leq \\sigma_n \\leq \\cdots \\leq \\sigma_1$, then, $$(\\sum_{i=1}^{n}p_iu_i)(\\sum_{i=1}^{n}p_i/u_i) \\leq \\frac{(u_1 + u_n)^2}{4 u_1 u_n}$$\n",
    "\n",
    "**My answer:**\n",
    "\n",
    "**reference:**\n",
    "\n",
    "http://mathworld.wolfram.com/KantorovichInequality.html\n",
    "http://services.aops.com/download.php?id=YXR0YWNobWVudHMvMS84LzM2YWVhMTg3Yzc0NDA5YTZmNDRhZDVjNmZlNmM4NzllMjRjNmE3LnBkZg==&rn=a2FudG9yb3ZpY2hfcHJvb2YucGRm\n",
    "\n",
    "Define another function $f(d) = 1/d$ and let $\\hat{d} = \\sum_{i=1}^{n}p_iu_i$ and Note that $\\hat{d} \\in [u_n, u_1]$.\n",
    "Then\n",
    "$$\\frac{1}{\\sum_{i=1}^{n}p_iu_i} = f(\\hat{d})$$ \n",
    "\n",
    "Define $h(d)$ be the linear function fitting the data $(u_1, 1/u_1)$ and $(u_n, 1/u_n)$, i.e.\n",
    "\n",
    "$$h(d) = \\frac{1}{u_n} + \\frac{1/u_1 - 1/u_n}{u_1 - u_n}(d - u_n)$$\n",
    "\n",
    "As f is a convec function, we know that $$f(d) \\leq h(d)$, $\\forall d \\in [u_n, u_1]$$\n",
    "So $$\\sum_{i=1}^{n}\\frac{p_i}{u_i} = \\sum_{i=1}^{n}p_if(u_i) \\leq \\sum_{i=1}^{n}p_ih(u_i) = h(\\sum_{i=1}^{n}p_iu_i) = h(\\hat{d})$$\n",
    "\n",
    "Thus,\n",
    "$$\\begin{align} \\frac{1}{(\\sum_{i=1}^{n}p_iu_i)(\\sum_{i=1}^{n}p_i/u_i)} &\\geq \\frac{f(\\hat{d})}{h(\\hat{d})} \\geq \\min_{u_n\\leq d \\leq u_1} \\frac{f(\\hat{d})}{h(\\hat{d})}\\\\ \n",
    "&= \\min_{u_n\\leq d \\leq u_1}  \\frac{\\frac{1}{d}}{ \\frac{1}{u_n} + \\frac{(u_n - u)}{d_1d_n} } \\\\\n",
    "&= u_1u_n \\min_{u_n\\leq d \\leq u_1} \\frac{1}{d(u_1 + u_n - d)} \\\\\n",
    "&= u_1u_n \\frac{1}{\\frac{u_1+u_n}{2}(u_1 + u_n - \\frac{u_1+u_n}{2})} \\,\\,\\,(minimum\\,\\, d= \\frac{u_1+u_n}{2}) \\\\\n",
    "& = \\frac{4u_1u_n}{u_1+u_n}^2\n",
    "\\end{align} $$\n",
    "\n",
    "Thus,\n",
    "$$ ||r_{k+1}||_2^2 \\leq (1 - \\frac{4\\sigma_1^2\\sigma_n^2}{\\sigma_1^2+\\sigma_n^2}) ||r_{k}||_2^2$$\n",
    "Therefore,\n",
    "$$ ||r_{k}||_2^2 \\leq (1 - \\frac{4\\sigma_1^2\\sigma_n^2}{\\sigma_1^2+\\sigma_n^2})^k ||r_{0}||_2^2$$"
   ]
  },
  {
   "cell_type": "markdown",
   "metadata": {},
   "source": [
    "<font color=brown>**Strategy 2: **</font> $A$ invertible, $\\min_\\alpha ||x_{k+1} - x^*||_2^2$\n",
    "\n",
    "**HW problem:**\n",
    "- 1.What is $\\alpha$? Is it practical?\n",
    "- 2.Do we converge\n",
    "- 3.Rate convergence"
   ]
  },
  {
   "cell_type": "markdown",
   "metadata": {},
   "source": [
    "<font color=brown>**Strategy 3: **</font> $||r^+||_2 = ||(I - \\alpha AA^T)r^c||_2 \\leq ||(I - \\alpha AA^T)||_2||r^c||_2$, $\\min_\\alpha ||I - \\alpha AA^T||_2$\n",
    "\n",
    "**HW problem:**\n",
    "- 1.What is $\\alpha$? "
   ]
  },
  {
   "cell_type": "markdown",
   "metadata": {},
   "source": [
    "<font color=brown>**Strategy 4: **</font> $||x_{k+1} - x^*||_2 \\leq ||I - \\alpha AA^T||_2 ||x_k - x^*||_2$\n",
    "\n",
    "**HW problem:**\n",
    "- 1.Why is this inequality true?\n",
    "- 2.What is $\\alpha$ that minimizes this?"
   ]
  },
  {
   "cell_type": "code",
   "execution_count": null,
   "metadata": {},
   "outputs": [],
   "source": []
  },
  {
   "cell_type": "code",
   "execution_count": null,
   "metadata": {},
   "outputs": [],
   "source": []
  },
  {
   "cell_type": "code",
   "execution_count": null,
   "metadata": {},
   "outputs": [],
   "source": []
  },
  {
   "cell_type": "code",
   "execution_count": null,
   "metadata": {},
   "outputs": [],
   "source": []
  },
  {
   "cell_type": "code",
   "execution_count": null,
   "metadata": {},
   "outputs": [],
   "source": []
  },
  {
   "cell_type": "code",
   "execution_count": null,
   "metadata": {},
   "outputs": [],
   "source": []
  },
  {
   "cell_type": "code",
   "execution_count": null,
   "metadata": {},
   "outputs": [],
   "source": []
  },
  {
   "cell_type": "code",
   "execution_count": null,
   "metadata": {},
   "outputs": [],
   "source": []
  },
  {
   "cell_type": "code",
   "execution_count": null,
   "metadata": {},
   "outputs": [],
   "source": []
  }
 ],
 "metadata": {
  "kernelspec": {
   "display_name": "Julia 1.0.0",
   "language": "julia",
   "name": "julia-1.0"
  },
  "language_info": {
   "file_extension": ".jl",
   "mimetype": "application/julia",
   "name": "julia",
   "version": "1.0.0"
  }
 },
 "nbformat": 4,
 "nbformat_minor": 2
}
