{
 "cells": [
  {
   "cell_type": "markdown",
   "metadata": {},
   "source": [
    "# Lecture 6"
   ]
  },
  {
   "cell_type": "markdown",
   "metadata": {},
   "source": [
    "### Givens Rotations\n",
    "\n",
    "Two by two example:\n",
    "\n",
    "$\\begin{bmatrix}\\lambda & \\sigma\\\\ -\\sigma & \\lambda \\end{bmatrix}$\n",
    "$\\begin{bmatrix}M_{11} & M_{12} & \\cdots & M_{1m}\\\\ M_{21} & M_{22} & \\cdots & M_{2m} \\end{bmatrix}$\n",
    "$=$\n",
    "$\\begin{bmatrix}\\lambda M_{11} + \\sigma M_{21} & \\cdots &  \\lambda M_{1m} + \\sigma M_{2m} \\\\\n",
    "-\\sigma M_{11} + \\lambda M_{21} & \\cdots &  -\\sigma M_{1m} + \\lambda M_{2m} \\end{bmatrix}$\n",
    "\n",
    "Let $-\\sigma M_{11} + \\lambda M_{21} = 0$ and $\\sigma^2 + \\lambda^2 = 1$ we can get,\n",
    "\n",
    "$\\lambda = \\frac{M_{11}}{\\sqrt{M_{11}^2 + M_{21}^2}}$ and $\\sigma = \\frac{M_{21}}{\\sqrt{M_{11}^2 + M_{21}^2}}$"
   ]
  },
  {
   "cell_type": "markdown",
   "metadata": {},
   "source": [
    "**HW problem**\n",
    "\n",
    "1.Determine the computational complexity for $QR$ decomposition using \n",
    "\n",
    "a.Gram-Schmidt  b. modifies Gram-Schmidt  \n",
    "\n",
    "c. Householder reflection  d.Givens Rotation for an arbitrary dense $n \\times n$ matrix.\n",
    "\n",
    "2.Compare the complexity of Householder vs Givens Rotation for a sparse matrix."
   ]
  },
  {
   "cell_type": "markdown",
   "metadata": {},
   "source": [
    "**My Answer:**\n",
    "\n",
    "Reference: \n",
    "\n",
    "http://www.seas.ucla.edu/~vandenbe/133A/lectures/qr.pdf\n",
    "\n",
    "http://www.math.usm.edu/lambers/mat610/sum10/lecture9.pdf (This one is important)\n",
    "\n",
    "If our $A \\in R^{m \\times n}$\n",
    "\n",
    "Gram-Schmidt algorithm: $2mn^2$\n",
    "\n",
    "Modified Gram-Schmidt algorithm: $2mn^2$\n",
    "\n",
    "Householder algorithm: $\\sum_{k=1}^{n}4(m-k)(n-k) \\sim 2mn^2 - 2n^3/3$\n",
    "\n",
    "Givens Rotations: $3mn^2 - n^3$ (or 50% more than Householder QR)\n",
    "\n",
    "In terms of sparse matrix:\n",
    "\n",
    "We showed how to construct Givens rotations in order to rotate two elements of a column vector\n",
    "so that one element would be zero, and that approximately $n^2/2$ such rotations could be used to\n",
    "transform $A$ into an upper triangular matrix $R$. Because each rotation only modifies two rows of\n",
    "$A$, it is possible to interchange the order of rotations that affect different rows, and thus apply\n",
    "sets of rotations in parallel. This is the main reason why Givens rotations can be preferable to\n",
    "Householder reflections. Other reasons are that they are easy to use when the $QR$ factorization\n",
    "needs to be updated as a result of adding a row to $A$ or deleting a column of $A$. They are also\n",
    "more efficient when $A$ is sparse.\n",
    "\n",
    "If our $A \\in R^{n \\times m}$\n",
    "\n",
    "- GS:  $O(nm^2)$\n",
    "- MGS: $O(nm^2)$\n",
    "- HR:  $O(nm^2)$\n",
    "- GR:  $O(nm^2)$\n",
    "\n",
    "If $A$ is sparse, we can save a lot of time by using Givens Rotation. Just focus on the non-zero entries."
   ]
  },
  {
   "cell_type": "markdown",
   "metadata": {},
   "source": [
    "**HW problem**\n",
    "\n",
    "1.Implement the $QR$ decomposition using the Householder Reflections. Input Matrix $A$(full column rank). Output $Q$, $R$.(You don't need to give all the columns of $Q$)\n",
    "\n",
    "2.Do the same job for Givens Rotations."
   ]
  },
  {
   "cell_type": "code",
   "execution_count": 1,
   "metadata": {},
   "outputs": [
    {
     "data": {
      "text/plain": [
       "1.7066752288308395e-15"
      ]
     },
     "execution_count": 1,
     "metadata": {},
     "output_type": "execute_result"
    }
   ],
   "source": [
    "# Householder\n",
    "using LinearAlgebra\n",
    "\n",
    "function householder(a)\n",
    "    \"\"\"\n",
    "    Computes the householder reflection\n",
    "    given a nonzero vector a.\n",
    "    \"\"\"\n",
    "    nrm_a = norm(a,2)\n",
    "    nrm_a == 0 && error(\"Input vector is zero.\")\n",
    "\n",
    "    d = length(a)\n",
    "    v = copy(a)\n",
    "    v[1] = v[1] - nrm_a\n",
    "    H = Matrix{Float64}(I,d,d) - 2*v*v'/dot(v,v)\n",
    "    return H\n",
    "end\n",
    "\n",
    "a = rand(10)\n",
    "a = [0.8147, 0.9058, 0.1270, 0.9134, 0.6324]\n",
    "H = householder(a)\n",
    "\n",
    "function householderQR(A)\n",
    "    \"\"\"\n",
    "    Implement the householder QR decompostion.\n",
    "    Input a m * n matrix with full rank.\n",
    "    Output Q, R. (Don't) need to give all the columns of Q\n",
    "    \"\"\"\n",
    "    m, n = size(A)\n",
    "    r = rank(A)\n",
    "    if r != min(m, n)\n",
    "        println(\"The input matrix is not full rank\")\n",
    "    else\n",
    "        H1 = householder(A[:,1])\n",
    "        A2 = H1 * A\n",
    "        Q = H1\n",
    "        Ai = A2\n",
    "        for i in 2:r\n",
    "            Hi_hat = householder(Ai[i:end, i])\n",
    "            b1 = hcat(Matrix{Float64}(I,i-1,i-1), zeros(i-1,m-i+1))\n",
    "            b2 = hcat(zeros(m-i+1, i-1), Hi_hat)\n",
    "            Hi = vcat(b1, b2)\n",
    "            Ai = Hi * Ai\n",
    "            Q = Q*Hi\n",
    "        end\n",
    "        R = Q'*A\n",
    "    end\n",
    "    return Q, R\n",
    "end\n",
    "\n",
    "\n",
    "m, n = 10, 4\n",
    "A = rand(m, n)\n",
    "Q, R = householderQR(A)\n",
    "norm(A-Q*R, 2)"
   ]
  },
  {
   "cell_type": "code",
   "execution_count": 3,
   "metadata": {},
   "outputs": [
    {
     "data": {
      "text/plain": [
       "([0.492667 -0.480668 … -0.641344 0.288528; 0.547757 -0.358349 … 0.468965 -0.133537; … ; 0.552353 0.339055 … 0.0385087 -0.589282; 0.382426 0.547312 … 0.212844 0.71269], [1.65365 1.14047 1.25698; -1.65615e-16 0.966095 0.634108; … ; -1.07429e-16 1.82679e-17 2.30535e-16; -1.0406e-16 -7.57776e-18 2.45559e-17])"
      ]
     },
     "execution_count": 3,
     "metadata": {},
     "output_type": "execute_result"
    }
   ],
   "source": [
    "# Another example\n",
    "B = [0.8147 0.9058 0.1270 0.9134 0.6324; \n",
    "     0.0975 0.2785 0.5469 0.9575 0.9649; \n",
    "     0.1576 0.9706 0.9572 0.4854 0.8003]\n",
    "\n",
    "Q, R = householderQR(B')"
   ]
  },
  {
   "cell_type": "code",
   "execution_count": 4,
   "metadata": {},
   "outputs": [
    {
     "data": {
      "text/plain": [
       "5×5 Array{Float64,2}:\n",
       " 0.492667   -0.480668  -0.177953   -0.641344    0.288528\n",
       " 0.547757   -0.358349   0.577744    0.468965   -0.133537\n",
       " 0.0767997   0.475432   0.634321   -0.567419   -0.20914 \n",
       " 0.552353    0.339055  -0.480846    0.0385087  -0.589282\n",
       " 0.382426    0.547312  -0.0311446   0.212844    0.71269 "
      ]
     },
     "execution_count": 4,
     "metadata": {},
     "output_type": "execute_result"
    }
   ],
   "source": [
    "Q"
   ]
  },
  {
   "cell_type": "code",
   "execution_count": 5,
   "metadata": {},
   "outputs": [
    {
     "data": {
      "text/plain": [
       "5×3 Array{Float64,2}:\n",
       "  1.65365       1.14047      1.25698    \n",
       " -1.65615e-16   0.966095     0.634108   \n",
       " -1.71211e-16   9.86083e-18  0.881557   \n",
       " -1.07429e-16   1.82679e-17  2.30535e-16\n",
       " -1.0406e-16   -7.57776e-18  2.45559e-17"
      ]
     },
     "execution_count": 5,
     "metadata": {},
     "output_type": "execute_result"
    }
   ],
   "source": [
    "R"
   ]
  },
  {
   "cell_type": "code",
   "execution_count": 21,
   "metadata": {},
   "outputs": [
    {
     "data": {
      "text/plain": [
       "givensQR (generic function with 1 method)"
      ]
     },
     "execution_count": 21,
     "metadata": {},
     "output_type": "execute_result"
    }
   ],
   "source": [
    "# Givens Rotation\n",
    "function givens_rot(a,i,j)\n",
    "    \"\"\"\n",
    "    Computes the Givens Rotation for a\n",
    "    vector 'a' at indices i and j, where\n",
    "    the index at j is set to zero.\n",
    "    \"\"\"\n",
    "    d = length(a)\n",
    "    (i > d || j > d) && error(\"Index out of range.\")\n",
    "    l = sqrt(a[i]^2 + a[j]^2)\n",
    "    λ = a[i]/l\n",
    "    σ = a[j]/l\n",
    "    G = ones(d)\n",
    "    G[i] = λ\n",
    "    G[j] = λ\n",
    "    G = diagm(0 => G)\n",
    "    G[i,j] = σ\n",
    "    G[j,i] = -σ\n",
    "    return G\n",
    "end\n",
    "\n",
    "function givensQR(A)\n",
    "    \"\"\"\n",
    "    Implement Givens Rotation QR decompostion.\n",
    "    Input a m * n full rank matrix. \n",
    "    Output Q and R.\n",
    "    \"\"\"\n",
    "    m, n = size(A)\n",
    "    r = rank(A)\n",
    "    if r != min(m, n)\n",
    "        println(\"The input matrix is not full rank\")\n",
    "    else\n",
    "        Q = Matrix{Float64}(I,m,m)\n",
    "        R = A\n",
    "        for j in 1:n\n",
    "            for i in m:-1:j+1\n",
    "                Gij = givens_rot(A[:,j],i-1,i)\n",
    "                A = Gij * A\n",
    "                R = Gij * R\n",
    "                Q = Q * Gij'\n",
    "            end\n",
    "        end\n",
    "    end\n",
    "    return Q, R\n",
    "end"
   ]
  },
  {
   "cell_type": "code",
   "execution_count": 22,
   "metadata": {},
   "outputs": [
    {
     "data": {
      "text/plain": [
       "1.2136771230827846e-15"
      ]
     },
     "execution_count": 22,
     "metadata": {},
     "output_type": "execute_result"
    }
   ],
   "source": [
    "m, n = 10, 4\n",
    "A = rand(m, n)\n",
    "Q, R = givensQR(A)\n",
    "norm(A-Q*R, 2)"
   ]
  },
  {
   "cell_type": "code",
   "execution_count": 23,
   "metadata": {},
   "outputs": [
    {
     "data": {
      "text/plain": [
       "10×10 Array{Float64,2}:\n",
       " 0.302352    0.0474027    0.0809427  …   0.0         0.0        0.0     \n",
       " 0.114335   -0.00772774   0.159959       0.0         0.0        0.0     \n",
       " 0.0505762   0.760678     0.373474       0.0         0.0        0.0     \n",
       " 0.0881243   0.0540396    0.392142       0.819824    0.0        0.0     \n",
       " 0.0508729  -0.0433308    0.248238      -0.1961      0.539549   0.0     \n",
       " 0.614501    0.203963    -0.58494    …   0.207804    0.223641  -0.340651\n",
       " 0.450999   -0.303406     0.100999       0.0476578   0.230796   0.699681\n",
       " 0.380294   -0.358637     0.275878      -0.0471911  -0.608093  -0.295845\n",
       " 0.194364   -0.154889     0.426649      -0.288764    0.368262  -0.474744\n",
       " 0.345234    0.357768     0.0498767     -0.397956   -0.316561   0.285476"
      ]
     },
     "execution_count": 23,
     "metadata": {},
     "output_type": "execute_result"
    }
   ],
   "source": [
    "Q"
   ]
  },
  {
   "cell_type": "code",
   "execution_count": 24,
   "metadata": {},
   "outputs": [
    {
     "data": {
      "text/plain": [
       "10×4 Array{Float64,2}:\n",
       "  1.53643       1.17368       1.40032       1.10585    \n",
       " -4.29249e-18   1.20479       0.669675      0.523554   \n",
       "  5.39971e-17  -1.95748e-17   0.984912      0.935952   \n",
       "  1.67049e-17   2.61778e-17   2.42841e-17   0.881137   \n",
       "  7.1136e-18    9.37192e-18   8.41057e-18  -3.01749e-17\n",
       " -2.56852e-17  -1.22524e-19  -1.27006e-17   9.0221e-18 \n",
       " -1.61313e-17   5.32717e-18  -2.01995e-20  -4.78946e-18\n",
       " -3.22957e-17   1.64909e-18  -2.08466e-17   1.03788e-19\n",
       " -7.73623e-17  -2.63898e-17  -1.49121e-18   1.04439e-17\n",
       " -1.13284e-17   1.00983e-17   3.13004e-17   1.04586e-17"
      ]
     },
     "execution_count": 24,
     "metadata": {},
     "output_type": "execute_result"
    }
   ],
   "source": [
    "R"
   ]
  },
  {
   "cell_type": "markdown",
   "metadata": {},
   "source": [
    "### \"Large\" data Least Squares\n",
    "\n",
    "#### Givens rotation and large data least squares\n",
    "\n",
    "Given $A \\in \\mathbb{R}^{n \\times m}$ where $n$ is too large to fit $A$ into memory, i.e. many data points, Gentlemen's incremental QR decomposition can be used. With the solution to the linear model $(A'A)^{-1}A'b = R^{-1}(Q'b)$, QR decomposition of $\\begin{bmatrix}A & b \\\\ \\end{bmatrix}$ gives:\n",
    "\n",
    "\\begin{align}\n",
    "\\begin{bmatrix}R & Q'b \\\\ 0 & S \\\\ \\end{bmatrix}\n",
    "\\end{align}\n",
    "\n",
    "1. Doing the QR decomposition on the first $m+1$ rows of $A$ gives:\n",
    "\n",
    "\\begin{align}\n",
    "\\begin{bmatrix} \\tilde{R}_{m+1} & \\tilde{Q}_{m+1}'b_{m+1} \\\\ 0 & S_{m+1} \\\\ \\end{bmatrix}\n",
    "\\end{align}\n",
    "\n",
    "2. Add the next row: \n",
    "\n",
    "\\begin{align}\n",
    "\\begin{bmatrix} \\tilde{R}_{m+1} & \\tilde{Q}_{m+1}'b_{m+1} \\\\ 0 & S_{m+1} \\\\ a_{m+2} & b_{m+2} \\\\ \\end{bmatrix}\n",
    "\\end{align}\n",
    "\n",
    "3. Hit this with the right Givens rotation to get:\n",
    "\n",
    "\\begin{align}\n",
    "\\begin{bmatrix} \\tilde{R}_{m+2} & \\tilde{Q}_{m+2}'b_{m+2} \\\\ 0 & S_{m+2} \\\\ \\end{bmatrix}\n",
    "\\end{align}\n",
    "\n",
    "4. Keep going until all rows have been added."
   ]
  },
  {
   "cell_type": "markdown",
   "metadata": {},
   "source": [
    "### Singular Value Decomposition"
   ]
  },
  {
   "cell_type": "markdown",
   "metadata": {},
   "source": [
    "**Therorem:** Suppose $A \\in R^{n \\times m}$ and $n \\geq m$. Then $\\exists U \\in R^{n\\times n}$ and $\\exists V \\in R^{m\\times m}$ orthogonal and there is a diagonal matrix $\\Sigma =   \\begin{pmatrix}\n",
    "    \\sigma_{1} & & \\\\\n",
    "    & \\ddots & \\\\\n",
    "    & & \\sigma_{m} \\\\\n",
    "    0 &\\cdots &0 \\\\\n",
    "    \\vdots &\\vdots &\\vdots \\\\\n",
    "    0 &\\cdots &0\n",
    "  \\end{pmatrix}$ where $\\sigma_1, \\cdots, \\sigma_m$ are $\\sigma_1 \\geq \\sigma_2 \\geq \\cdots \\sigma_m \\geq 0$. S.T.\n",
    "  \n",
    "  $$A  = U \\Sigma V^T$$"
   ]
  },
  {
   "cell_type": "markdown",
   "metadata": {},
   "source": [
    "**HW problem**\n",
    "\n",
    "(1) What happens if $m > n$\n",
    "\n",
    "**My Answer:**\n",
    "$$A = U\\begin{pmatrix}\n",
    "    \\sigma_{1} & & & 0 & \\cdots &0\\\\\n",
    "    & \\ddots & & \\vdots& \\vdots &\\vdots\\\\\n",
    "    & & \\sigma_{n} & 0 & \\cdots &0\n",
    "  \\end{pmatrix} V^T$$\n",
    "\n",
    "(2) If $u$,$v$ are left and right sigular vectors corresponding to sigular value $\\sigma$ show that\n",
    "\n",
    "$$Av = \\sigma u$$\n",
    "\n",
    "$$A^Tv = \\sigma v$$\n",
    "\n",
    "**My Answer**\n",
    "\n",
    "$$A = \\sum_{i = 1}^{m} \\sigma_i u_i v_i^T$$\n",
    "$$Av = \\sum_{i = 1}^{m} \\sigma_i u_i v_i^T v = \\sigma_i u_i = \\sigma u$$\n",
    "$$A^Tu = \\sum_{i = 1}^{m} \\sigma_i v_i u_i^T u = \\sigma_i v_i = \\sigma v$$\n",
    "\n",
    "Since $U$ and $V$ are orthogonal matrix. "
   ]
  },
  {
   "cell_type": "code",
   "execution_count": null,
   "metadata": {},
   "outputs": [],
   "source": []
  }
 ],
 "metadata": {
  "kernelspec": {
   "display_name": "Julia 1.0.0",
   "language": "julia",
   "name": "julia-1.0"
  },
  "language_info": {
   "file_extension": ".jl",
   "mimetype": "application/julia",
   "name": "julia",
   "version": "1.0.0"
  }
 },
 "nbformat": 4,
 "nbformat_minor": 2
}
