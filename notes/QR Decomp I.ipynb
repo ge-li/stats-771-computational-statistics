{
 "cells": [
  {
   "cell_type": "markdown",
   "metadata": {},
   "source": [
    "# Lecture 4"
   ]
  },
  {
   "cell_type": "markdown",
   "metadata": {},
   "source": [
    "## QR Decomposition"
   ]
  },
  {
   "cell_type": "markdown",
   "metadata": {},
   "source": [
    "Let $m \\geq n$. For each $A \\in R^{m \\times n}$ there exists a permutation matrix $P \\in R^{n \\times n}$, an orthogonal matrix $Q \\in R^{m \\times m}$, and an upper triangular matrix $R \\in R^{n \\times n}$ such that:\n",
    "\n",
    "$$AP = Q \\begin{pmatrix}R\\\\ 0 \\end{pmatrix}$$"
   ]
  },
  {
   "cell_type": "markdown",
   "metadata": {},
   "source": [
    "#### Column pivoting\n",
    "https://en.wikipedia.org/w/index.php?title=QR_decomposition&action=edit&section=17\n",
    "\n",
    "QR decompostion with column pivoting introduces a permutation matrix $P$. Column pivoting is useful when $A$ is (nearly) rank deficient or is suspected of being so. It can also improve numerical accuracy. $P$ is usually chosen so that the diagonal elements of R are non-increasing: $|r_{11}| \\geq |r_{22}| \\geq \\cdots \\geq |r_{nn}|$. This can be used to find the (numerical) rank of A at lower computational cost than a singular value decomposition."
   ]
  },
  {
   "cell_type": "markdown",
   "metadata": {},
   "source": [
    "## Problems"
   ]
  },
  {
   "cell_type": "markdown",
   "metadata": {},
   "source": [
    "### a. Consistent Linear System"
   ]
  },
  {
   "cell_type": "markdown",
   "metadata": {},
   "source": [
    "<font color=\"#42b3f4\">**HW problem1: Why $R$ has non-zero diagonal elements?**</font>\n",
    "\n",
    "**My answer:**\n",
    "\n",
    "$A \\in R^{m \\times n}$, $m \\geq n$, $rank(A) = m$, and we have full QR decomposition is:\n",
    "\\begin{equation*}\n",
    "AP = Q \\begin{pmatrix}R\\\\ 0 \\end{pmatrix}\n",
    "\\end{equation*}\n",
    "The reduced QR decomposition will be:\n",
    "\\begin{equation*}\n",
    "A_1 = Q_1 R_1\n",
    "\\end{equation*}\n",
    "Where $A_1 = AP$, $Q_1 \\in R^{m \\times n}$ and $R_1 \\in R^{n \\times n}$ and $R_1$ is a upper triangular matrix.\n",
    "\n",
    "Assume $A_1 = [a_1, a_2, \\cdots, a_n]$, $Q_q = [q_1, q_2, \\cdots, q_n]$ and the diagonal elements of $R_1$ are $r_{11}, \\cdots, r_{nn}$\n",
    "\n",
    "so, \n",
    "$$[a_1, \\cdots, a_n] = [q_1, \\cdots, q_n]   \\begin{bmatrix}\n",
    "    r_{11} & & \\\\\n",
    "    & \\ddots & \\\\\n",
    "    & & r_{nn}\n",
    "  \\end{bmatrix}$$\n",
    "\n",
    "If $r_{11} = 0$, then $a_1 = 0$, then $A$ doesn't have full rank.\n",
    "\n",
    "If $r_{kk} = 0$, $1<k \\leq n$, then $a_k = $ Linear Combination of $q_1, \\cdots, q_{k-1}$, then $a_k = $ Linear Combination of $a_1, \\cdots, a_{k-1}$, then $A$ doesn't have full rank.\n",
    "\n",
    "Note that:\n",
    "\\begin{align}\n",
    "a_1 & = r_{11}q_1 \\\\\n",
    "a_2 & = r_{12}q_1 + r_{22}q_2 \\\\\n",
    "\\vdots \\\\\n",
    "a_{k-1} & = r_{1,k-1}q_1 + \\cdots + r_{k-1, k-1}q_{k-1} \n",
    "\\end{align}\n",
    "\n",
    "We can find that:\n",
    "\\begin{align}\n",
    "q_1 & = c_{11}a_1 \\\\\n",
    "q_2 & = c_{12}a_1 + c_{22}a_2 \\\\\n",
    "\\vdots \\\\\n",
    "q_{k-1} & = c_{1,k-1}a_1 + \\cdots + c_{k-1, k-1}a_{k-1} \n",
    "\\end{align}"
   ]
  },
  {
   "cell_type": "markdown",
   "metadata": {},
   "source": [
    "### b. Least Square"
   ]
  },
  {
   "cell_type": "markdown",
   "metadata": {},
   "source": [
    "<font color=\"#42b3f4\">**HW problem2: Prove $||x||_2 = ||Qx||_2$**</font>\n",
    "\n",
    "**My answer:**\n",
    "\n",
    "Prove:\n",
    "Since $Q$ is orthogonal, then $Q^TQ = I$. Thus,\n",
    "$||Qx||_2 = \\sqrt{x^TQ^TQx} = \\sqrt{x^Tx} = ||x||_2$"
   ]
  },
  {
   "cell_type": "markdown",
   "metadata": {},
   "source": [
    "<font color=\"#42b3f4\">**HW problem3: Implement Linear regression problem. Inputs: $A, b$. Outputs: $\\hat{x}, ||c_2||_2$**</font>\n",
    "\n",
    "**My answer:**\n",
    "\n",
    "$Q^Tb = \\begin{bmatrix}c_1\\\\ c_2 \\end{bmatrix}$, $\\hat{x} = \\pi R^{-1} c_1$\n",
    "\n",
    "Also what is $||c_2||_2$?"
   ]
  },
  {
   "cell_type": "code",
   "execution_count": 8,
   "metadata": {},
   "outputs": [
    {
     "data": {
      "text/plain": [
       "([0.634732, 0.573079, 0.598702, 0.496322], 2.8744111503786724e-16)"
      ]
     },
     "execution_count": 8,
     "metadata": {},
     "output_type": "execute_result"
    }
   ],
   "source": [
    "\"\"\"\n",
    "To use julia in jupyter note book run the following two line in Julia terminal\n",
    "using Pkg\n",
    "Pkg.add(\"IJulia\")\n",
    "\n",
    "Note that:\n",
    "In Julia 1.0.0, 'qr' in the function for qr factorization rather than 'qrfact'\n",
    "Also if F = qr(A), Q = F.Q rather than F[:Q]\n",
    "\"\"\"\n",
    "\n",
    "using LinearAlgebra\n",
    "# Least Squares\n",
    "function LS(A,b; ϵ = 1e-14)\n",
    "    \"\"\"\n",
    "    Solves a linear regression problem given\n",
    "    the coefficient matrix A and the constant\n",
    "    vector b. Return the x hat and the norm-2 of c2\n",
    "    \"\"\"\n",
    "    n, m = size(A)\n",
    "    F = qr(A, Val(true))\n",
    "    c = F.Q' * b\n",
    "    c1 = c[1:m]\n",
    "    c2 = c[m+1:n]\n",
    "    return F.P * inv(F.R) * c1, sqrt(c2' * c2)\n",
    "end\n",
    "\n",
    "n, m = 10, 4\n",
    "A = rand(10,4)\n",
    "x = rand(4)\n",
    "b = A*x\n",
    "x_LSR = inv(A'A)A'b\n",
    "x_hat, c2_norm = LS(A,b)\n"
   ]
  },
  {
   "cell_type": "code",
   "execution_count": 18,
   "metadata": {},
   "outputs": [
    {
     "data": {
      "text/plain": [
       "4-element Array{Float64,1}:\n",
       " 0.2972010569439131 \n",
       " 0.8464025631298644 \n",
       " 0.07132860932183582\n",
       " 0.4292627814112714 "
      ]
     },
     "execution_count": 18,
     "metadata": {},
     "output_type": "execute_result"
    }
   ],
   "source": [
    "x_LSR"
   ]
  },
  {
   "cell_type": "code",
   "execution_count": 19,
   "metadata": {},
   "outputs": [
    {
     "data": {
      "text/plain": [
       "4-element Array{Float64,1}:\n",
       " 0.2972010569439137 \n",
       " 0.8464025631298632 \n",
       " 0.07132860932183577\n",
       " 0.42926278141127083"
      ]
     },
     "execution_count": 19,
     "metadata": {},
     "output_type": "execute_result"
    }
   ],
   "source": [
    "x_hat"
   ]
  },
  {
   "cell_type": "markdown",
   "metadata": {},
   "source": [
    "### c. Under Determined Linear System"
   ]
  },
  {
   "cell_type": "markdown",
   "metadata": {},
   "source": [
    "<font color=\"#42b3f4\">**HW problem4: Solve the rest of the question. Lef $f$ be a vector-valued function over $R^d$, when is $argmin ||f(x)||_2 = argmin ||f(x)||^2_2$?**</font>\n",
    "\n",
    "**My answer:**\n",
    "\n",
    "***For the second part, basically the answer is always***"
   ]
  },
  {
   "cell_type": "markdown",
   "metadata": {},
   "source": [
    "$\\min \\{||y||_2 : Ay = b\\}$ and $r = rank(A) < m$"
   ]
  },
  {
   "cell_type": "markdown",
   "metadata": {},
   "source": [
    "$Q \\begin{bmatrix}R & S\\\\ 0 & 0 \\end{bmatrix}\\pi^Ty = b$\n",
    "\n",
    "$ \\begin{bmatrix}R & S\\\\ 0 & 0 \\end{bmatrix}\\pi^Ty = Q^Tb = \\begin{bmatrix}c\\\\ 0 \\end{bmatrix}$\n",
    "\n",
    "Let $\\pi^Ty = \\begin{bmatrix}z_1\\\\ z_2 \\end{bmatrix}$, then $Rz_1 + Sz_2 = c$, then $z_1 = R^{-1}c - R^{-1}sz_2$\n",
    "\n",
    "Thus, let $d = R^{-1}c$ and $p = R^{-1}S$\n",
    "\n",
    "$\\min_{y} \\{||y||_2 : Ay = b\\}$ $\\iff$ $\\min_{z} \\{||z||_2 : z_1 = R^{-1}c - R^{-1}sz_2\\}$\n",
    "$\\iff$ $\\min_{z_2} \\sqrt{||R^{-1}c - R^{-1}Sz_2||^2_2 + ||z_2||^2_2}$\n",
    "$\\iff$ $\\min_{z_2} \\sqrt{||d - pz_2||^2_2 + ||z_2||^2_2}$\n",
    "\n",
    "$g(z_2) = ||d - pz_2||^2_2 + ||z_2||^2_2$\n",
    "\n",
    "$\\frac{dg}{dz_2} = -p^Td + (p^Tp + I)z_2$\n",
    "\n",
    "Let the derivative equal to zero, we get $z_2 = (p^Tp + I)^{-1}p^Td$\n",
    "\n",
    "and then $z_1 = d - p(p^Tp + I)^{-1}p^Td$"
   ]
  },
  {
   "cell_type": "markdown",
   "metadata": {},
   "source": [
    "<font color=\"#42b3f4\">**HW problem 5: why is $(p^Tp + I)$ invertible?**</font>\n",
    "\n",
    "**My answer:**\n",
    "\n",
    "Given $rank(A) < m$, $P = R^{-1}S$ can't be zero.\n",
    "\n",
    "$ x^T(P^TP + I)x = x^TP^TPx + x^Tx = ||Px||_2^2 + ||x||_2^2 > 0$ for $\\forall x \\neq 0$\n",
    "\n",
    "Thus $(p^Tp + I)$ is positive definite which infer that its eigenvalues are all larger than zero so it is full rank. \n",
    "Thus $(p^Tp + I)$ is invertible"
   ]
  },
  {
   "cell_type": "markdown",
   "metadata": {},
   "source": [
    "### d. Under Determined Least Square"
   ]
  },
  {
   "cell_type": "markdown",
   "metadata": {},
   "source": [
    "$\\min_{z} \\{||z||_2 : z \\in argmin_y ||Ay-b||_2\\}$\n",
    "\n",
    "$\\iff$ $\\min_{x} \\{||z||_2 : z \\in argmin_y ||\\begin{bmatrix}R & S\\\\ 0 & 0 \\end{bmatrix}\\pi^Ty - Q^Tb||_2\\}$\n",
    "\n",
    "$\\iff$ $\\min_{w} \\{||w|_2 : w \\in argmin_y ||\\begin{bmatrix}R & S\\\\ 0 & 0 \\end{bmatrix}y - Q^Tb||_2\\}$ since $||\\pi^Ty||_2 = ||y||_2$\n",
    "\n",
    "$\\min$ $||\\begin{bmatrix}R & S\\\\ 0 & 0 \\end{bmatrix}y - Q^Tb||_2$ $\\iff$ $\\min$ $||\\begin{bmatrix}Ry_1 + Sy_2 - c_1\\\\ -c_2 \\end{bmatrix}||_2$. let $Q^Tb = \\begin{bmatrix}c_1\\\\ c2 \\end{bmatrix}$\n",
    "\n",
    "This give us that $w = \\begin{bmatrix}R^{-1}(c_1 - Sy_2)\\\\ y_2 \\end{bmatrix}$\n",
    "\n",
    "Further, $\\min ||w||_2$ $\\iff$ $\\min ||w||_2^2$ $\\iff$ $\\min {||R^{-1}(c_1 - Sy_2)||_2^2 + ||y_2||_2^2}$ $\\iff$ \n",
    "$\\min ||d - Py_2||_2^2 + ||y_2||_2^2$, which is the same problem as the underdetermined Linear system. \n",
    "\n",
    "Thus, we get  $y_2 = (p^Tp + I)^{-1}p^Td$\n",
    "\n",
    "and then $y_1 = d - p(p^Tp + I)^{-1}p^Td$\n",
    "\n",
    "where $d = R^{-1}c$ and $p = R^{-1}S$"
   ]
  },
  {
   "cell_type": "markdown",
   "metadata": {},
   "source": [
    "<font color=\"#42b3f4\">**HW problem 6: Implement this algorithm**</font>\n",
    "\n",
    "**My answer:**"
   ]
  },
  {
   "cell_type": "code",
   "execution_count": 12,
   "metadata": {},
   "outputs": [
    {
     "data": {
      "text/plain": [
       "10-element Array{Float64,1}:\n",
       "  0.47516594875278634\n",
       "  0.14147316832619544\n",
       " -0.02182357004459752\n",
       " -0.4480999357404554 \n",
       "  0.11138995713520172\n",
       " -0.16712621905274677\n",
       "  1.055396408292102  \n",
       " -0.11235846371532822\n",
       "  0.21693188814829398\n",
       " -0.2556090362360267 "
      ]
     },
     "execution_count": 12,
     "metadata": {},
     "output_type": "execute_result"
    }
   ],
   "source": [
    "# Under determined Least Squares\n",
    "using LinearAlgebra\n",
    "function underLS(A,b; ϵ = 1e-14)\n",
    "    \"\"\"\n",
    "    Solves an underdetermined linear system given\n",
    "    the coefficient matrix A and the constant\n",
    "    vector b. Returns the least norm solution.\n",
    "    \"\"\"\n",
    "    n, m = size(A)\n",
    "    s = min(n,m)\n",
    "    F = qr(A, Val(true))\n",
    "\n",
    "    #Compute rank approximation r\n",
    "    #Rtrm = F.R[1:s,1:s]\n",
    "    #r = maximum(find(abs.(diag(Rtrm)) .>= ϵ))\n",
    "    r = rank(F.R)\n",
    "    l = m - r\n",
    "    \n",
    "    #Generate R and S\n",
    "    R, S = F.R[1:r,1:r], F.R[1:r,r+1:end]\n",
    "    d, P = inv(R)*F.Q'*b[1:r], inv(R)*S\n",
    "    z2 = inv(P'*P + Matrix{Float64}(I,l,l)) * P'* d\n",
    "    z1 = d - P*z2\n",
    "    return F.P*vcat(z1,z2)\n",
    "end\n",
    "\n",
    "\n",
    "n, m = 4, 10\n",
    "A = rand(n,m)\n",
    "b = rand(n)\n",
    "underLS(A, b)"
   ]
  },
  {
   "cell_type": "markdown",
   "metadata": {},
   "source": [
    "### e. Constrained Linear Problem"
   ]
  },
  {
   "cell_type": "markdown",
   "metadata": {},
   "source": [
    "Suppose $A \\in R^{n \\times m}$, $n \\geq m$, $rank(A) = m$. Let $b \\in R^n$, $C\\in R^{p \\times m}$, $rank(C) = p$,\n",
    "$d \\in R^p$. \n",
    "\n",
    "Find $x$ such that $x = argmin ||Ay - b||_2$ s.t. $Cy = d$"
   ]
  },
  {
   "cell_type": "markdown",
   "metadata": {},
   "source": [
    "<font color=\"#42b3f4\">\n",
    "**HW problem 7: Solove Problem 5 using QR decomposition and also consider $p \\geq m$**\n",
    "**HW problem 8: Implement the solution**\n",
    "\n",
    "</font>"
   ]
  },
  {
   "cell_type": "markdown",
   "metadata": {},
   "source": [
    "Reference for this problem: https://folk.uio.no/inf9540/CLS.pdf\n",
    "\n",
    "See in the paper, need to check the answers before typing in Jupyter and implement the solution\n",
    "\n",
    "<font color=\"#188249\">\n",
    "    \n",
    "__Homework__ Solve and implement constrained least squares solver.\n",
    "\n",
    "First we do QR decomposition on $C'$:\n",
    "\n",
    "\\begin{align}\n",
    "C' = Q\\begin{bmatrix} R \\\\ 0 \\end{bmatrix}\n",
    "\\end{align}\n",
    "\n",
    "Then we have:\n",
    "\n",
    "\\begin{align}\n",
    "AQ &= \\begin{bmatrix} A_1 & A_2 \\end{bmatrix} \\\\\n",
    "Q'y &= \\begin{bmatrix} y_1 \\\\ y_2 \\end{bmatrix} \\\\\n",
    "\\end{align}\n",
    "\n",
    "And we can update the objective:\n",
    "\n",
    "\\begin{align}\n",
    "O &= \\min \\|Ay-b\\|_2 : Cy = d\\\\\n",
    "&= \\min \\|AQQ'y -b\\|_2 : Cy = d\\\\\n",
    "&= \\min \\left\\| \\begin{bmatrix} A_1 & A_2 \\end{bmatrix} \\begin{bmatrix} y_1 \\\\ y_2 \\end{bmatrix} - b \\right\\| _2 : Cy = d\\\\\n",
    "&= \\min \\left\\| A_1y_1 + A_2y_2 - b \\right\\|_2 : Cy = d\\\\\n",
    "\\end{align}\n",
    "\n",
    "We can also update the constraint:\n",
    "\n",
    "\\begin{align}\n",
    "O &= \\min \\left\\| A_1y_1 + A_2y_2 - b \\right\\|_2 : \\begin{bmatrix} R' & 0 \\end{bmatrix} Q'y = d \\\\\n",
    "&= \\min \\left\\| A_1y_1 + A_2y_2 - b \\right\\|_2 : \\begin{bmatrix} R' & 0 \\end{bmatrix} \\begin{bmatrix} y_1 \\\\ y_2 \\end{bmatrix} = d \\\\\n",
    "&= \\min \\left\\| A_1y_1 + A_2y_2 - b \\right\\|_2 : R'y_1 = d \\\\\n",
    "&= \\min \\left\\| A_1y_1 + A_2y_2 - b \\right\\|_2 : y_1 = R'^{-1}d  \\\\\n",
    "\\end{align}\n",
    "\n",
    "**y_1 is calculated from the consistend linear system and y_2 is calculated from least square.**\n"
   ]
  },
  {
   "cell_type": "code",
   "execution_count": 1,
   "metadata": {},
   "outputs": [
    {
     "name": "stdout",
     "output_type": "stream",
     "text": [
      "[0.361047, 0.769895, 0.269167, 0.892361]\n",
      "[0.361047, 0.769895, 0.269167, 0.892361]\n"
     ]
    }
   ],
   "source": [
    "## Constrained Least Square\n",
    "#using Random\n",
    "#Random.seed!(0);\n",
    "using LinearAlgebra\n",
    "\n",
    "function consistentLS(A,b)\n",
    "    \"\"\"\n",
    "    Solves a consistent linear system given\n",
    "    the coefficient matrix A and the constant\n",
    "    vector b. Assumes A is consistent.\n",
    "    \"\"\"\n",
    "    n, m = size(A)\n",
    "    F = qr(A,Val(true))\n",
    "    d = F.Q'*b\n",
    "    c = F.R\\d[1:m]\n",
    "    return F.P*c\n",
    "end\n",
    "\n",
    "function LS(A,b; ϵ = 1e-14)\n",
    "    \"\"\"\n",
    "    Solves a linear regression problem given\n",
    "    the coefficient matrix A and the constant\n",
    "    vector b. Return the x hat and the norm-2 of c2\n",
    "    \"\"\"\n",
    "    n, m = size(A)\n",
    "    F = qr(A, Val(true))\n",
    "    c = F.Q' * b\n",
    "    c1 = c[1:m]\n",
    "    c2 = c[m+1:n]\n",
    "    return F.P * inv(F.R) * c1, sqrt(c2' * c2)\n",
    "end\n",
    "\n",
    "function constrainedLS(A,b,C,d)\n",
    "    p,m = size(C)\n",
    "    F = qr(C')\n",
    "    AQ = A*F.Q\n",
    "    AQ1 = AQ[1:end,1:p]\n",
    "    AQ2 = AQ[1:end,(p+1):end]\n",
    "    R = F.R[1:p,1:end]\n",
    "    y1 = consistentLS(R', d)\n",
    "    #y1 = F.P'*y1\n",
    "    y2, residual = LS(AQ2,b-AQ1*y1)\n",
    "    return F.Q*vcat(y1,y2)\n",
    "end\n",
    "\n",
    "n = 10\n",
    "m = 4\n",
    "p = 2\n",
    "A = rand(n,m)\n",
    "x = rand(m)\n",
    "b = A*x\n",
    "C = rand(p,m)\n",
    "d = C*x\n",
    "println(x)\n",
    "x_hat= constrainedLS(A,b,C,d)\n",
    "println(x_hat)"
   ]
  },
  {
   "cell_type": "markdown",
   "metadata": {},
   "source": [
    "<font color=Red>**Question Mark**</font>\n",
    "\n",
    "**HW problem 9:** \n",
    "\n",
    "$A \\in R^{n \\times m}$, $rank(A) = m$, $b \\in R^n$, $C = [A \\,\\,\\, b]$\n",
    "\n",
    "**HW 9.1: What does the last column of R represent?**\n",
    "\n",
    "**HW 9.2: What does the last entry of the last column of R represent?**\n",
    "\n",
    "**HW 9.3: How can this be used in computation**\n",
    "\n",
    "**Notes:**\n",
    "\n",
    "<font color=\"#42b3f4\">\n",
    "1.When $b \\in col(A)$\n",
    "The last column is $Rx^* = Q'b$, where $b = Ax^*$\n",
    "The last entry of the last column of big R represent the residual, which is zero is this circumstance.<br/>\n",
    "<br/>\n",
    " \n",
    "2.When $b \\notin col(A)$\n",
    "The last column is $c_1$. It is the projection of $b$ onto the column space of A\n",
    "The last entry of the last column of big R represent the residual, which is not zero is this circumstance.\n",
    "</font>"
   ]
  }
 ],
 "metadata": {
  "kernelspec": {
   "display_name": "Julia 1.0.0",
   "language": "julia",
   "name": "julia-1.0"
  },
  "language_info": {
   "file_extension": ".jl",
   "mimetype": "application/julia",
   "name": "julia",
   "version": "1.0.0"
  }
 },
 "nbformat": 4,
 "nbformat_minor": 2
}
