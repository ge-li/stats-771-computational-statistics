{
 "cells": [
  {
   "cell_type": "markdown",
   "metadata": {},
   "source": [
    "# Lecture11"
   ]
  },
  {
   "cell_type": "markdown",
   "metadata": {},
   "source": [
    "## Conjugated Gradient"
   ]
  },
  {
   "cell_type": "markdown",
   "metadata": {},
   "source": [
    "**Useful Reference:**\n",
    "\n",
    "http://math.stmarys-ca.edu/wp-content/uploads/2017/07/Mike-Rambo.pdf\n",
    "\n",
    "http://www.princeton.edu/~amirali/Public/Teaching/ORF363_COS323/F14/ORF363_COS323_F14_Lec10.pdf\n"
   ]
  },
  {
   "cell_type": "markdown",
   "metadata": {},
   "source": [
    "### A. Orthogonal Search Directions"
   ]
  },
  {
   "cell_type": "markdown",
   "metadata": {},
   "source": [
    "$\\{x_k\\}$ denote $x_0$ is arbitrary and $x_{k+1} = x_{k} - \\alpha_ks_k$, $\\alpha_k$ is the step length and $s_k$ is the search direction."
   ]
  },
  {
   "cell_type": "markdown",
   "metadata": {},
   "source": [
    "### B. Conjugation"
   ]
  },
  {
   "cell_type": "markdown",
   "metadata": {},
   "source": [
    "<font color=brown>**Defn:**</font>\n",
    "A set of vectors $\\{s_0, \\cdots, s_{d-1}\\} \\subseteq R^d$ are $A$-conjugated if they are orthogonal w.r.t $<\\cdot,\\cdot>_A$ ($s_i^T A s_j = 0, \\forall i \\neq j$)."
   ]
  },
  {
   "cell_type": "markdown",
   "metadata": {},
   "source": [
    "<font color=brown>**Gram-Schmidt:**</font>\n",
    "$\\{a_0, \\cdots, a_{d-1}\\}$ are the column vectors of $A$, $A$ is symmetric and positive definite. $$s_0 = \\frac{a_1}{||a_0||_A}$$\n",
    "$$s_j = \\frac{a_j - \\sum_{i=0}^{j-1}<a_j,s_j>_A s_i}{||a_j - \\sum_{i=0}^{j-1}<a_j,s_j>_A s_i||_A}$$"
   ]
  },
  {
   "cell_type": "markdown",
   "metadata": {},
   "source": [
    "<font color=green>**HW:**\n",
    "What conditions(if any) on $\\{a_0, \\cdots, a_{d-1}\\}$ guarantee that an A-normalized, A-conjugate set $\\{s_0, \\cdots, s_{d-1}\\}$ can be produced by Gram-Schmidt?\n",
    "</font>\n",
    "<br>\n",
    "<font color=blue>**Ansewer:**\n",
    "As long as $\\{a_0, \\cdots, a_{d-1}\\}$ are linear independent.\n",
    "</font>"
   ]
  },
  {
   "cell_type": "markdown",
   "metadata": {},
   "source": [
    "<font color=brown>**Lemma:**</font>\n",
    "$A \\in R^{d \\times d}$ symmetric positive definite, $b \\in R^d$ is arbitrary. Let $x^*$ satisfy $Ax^* = b$. Let $\\{s_0, \\cdots, s_{d-1}\\}$ is A-conjugate and A-normalized. Ler $x_0$ be arbitrary. If $\\{x_k, k \\in N\\}$, $x_{k+1} = x_k - \\alpha_k s_k$, where $\\alpha_k = r_k^Ts_k$ and $r_k = Ax_k - b$. Then, \n",
    "\n",
    "$$\\alpha_k = r_0^Ts_k$$\n",
    "$$x_d = x^*$$\n",
    "$$0 = r_{k+1}^Ts_j, j \\in 1,\\cdots,k$$"
   ]
  },
  {
   "cell_type": "markdown",
   "metadata": {},
   "source": [
    "<font color=brown>**proof:**</font>\n",
    "\n",
    "$$x_k = x_{k-1} - \\alpha_{k-1}s_{k-1}=x_{k-2} -\\alpha_{k-2}s_{k-2}- \\alpha_{k-1}s_{k-1} = x_0 - \\sum_{i=0}^{k-1}\\alpha_i s_i$$\n",
    "\n",
    "$$r_k = Ax_k - b = r_0 - \\sum_{i=0}^{k-1}\\alpha_iAs_i$$\n",
    "\n",
    "$$\\alpha_k = s_k^T r_k = s_k^Tr_0 - \\sum_{i=0}^{k-1}\\alpha_is_k^TAs_i = s_k^Tr_0$$\n",
    "\n",
    "Next, for $l \\leq k$\n",
    "$$\\begin{align}\n",
    "r_{k+1}^Ts_l &= (r_0 - \\sum_{i=0}^{k-1}\\alpha_iAs_i)^Ts_l\\\\\n",
    "&= r_0^Ts_l - \\sum_{i=0}^{k-1}As_i^T\\alpha_is_l \\\\\n",
    "& = \\alpha_l - \\alpha_l s_l^TAs)l \\\\\n",
    "& = 0\n",
    "\\end{align}$$ \n",
    "\n",
    "Further, suppose $x_d \\neq x^*$ $Ax_d - b = r_d \\neq 0$. Then, from previous result $\\implies$ $r_d^Ts_l = 0$ for $l = 0,1,\\cdots,d-1$. But $span\\{s_0, \\cdots, s_{d-1}\\} = R^d$, which means $r_d = 0$. Contradiction!"
   ]
  },
  {
   "cell_type": "code",
   "execution_count": null,
   "metadata": {},
   "outputs": [],
   "source": []
  }
 ],
 "metadata": {
  "kernelspec": {
   "display_name": "Julia 1.0.0",
   "language": "julia",
   "name": "julia-1.0"
  },
  "language_info": {
   "file_extension": ".jl",
   "mimetype": "application/julia",
   "name": "julia",
   "version": "1.0.0"
  }
 },
 "nbformat": 4,
 "nbformat_minor": 2
}
