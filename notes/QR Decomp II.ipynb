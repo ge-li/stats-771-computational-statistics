{
 "cells": [
  {
   "cell_type": "markdown",
   "metadata": {},
   "source": [
    "# Lecture 5"
   ]
  },
  {
   "cell_type": "markdown",
   "metadata": {},
   "source": [
    "## Existence of QR decomposition\n",
    "\n",
    "### Lemma (Gram-Schmidt Process)\n",
    "Let $\\{a_1, \\cdots, a_r\\}$ are linear independent. Thus, $\\exists \\{q_1, \\cdots, q_r\\}$ orthogonal vectors that span $\\{a_1, \\cdots, a_r\\}$. That is span($\\{a_1, \\cdots, a_r\\}$) = span($\\{q_1, \\cdots, q_r\\}$)"
   ]
  },
  {
   "cell_type": "markdown",
   "metadata": {},
   "source": [
    "**Proof:**\n",
    "\n",
    "By induction. Base case $r = 1$, $q_1 = \\frac{1}{R_1}a_1$, $R_{11} = ||a_1||_2$\n",
    "\n",
    "Case $r = 2$, $R_{12} = {q_1^\\prime}a_2$\n",
    "\n",
    "$\\tilde{q}_2 = a_2 - R_{12}q_1$, $R_{22} = ||\\tilde{q}_2||_2$, $q_2 = \\frac{1}{R_{22}}\\tilde{q}_1$\n",
    "\n",
    "Induction, suppose $i \\leq r - 1$, What we want to show: \n",
    "\n",
    "(1) $q_1, \\cdots, q_r$ span $a_1, \\cdots, a_r$\n",
    "\n",
    "(2) $q_r^\\prime q_i = 0$, $i \\leq r - 1$\n",
    "\n",
    "(3) $q_r^\\prime q_r = 1$\n",
    "\n",
    "Def: \n",
    "\n",
    "$$\\begin{align}\n",
    "R_{ir} &= q_i^\\prime a_r \\\\\n",
    "\\tilde{q}_r &= a_r - \\sum_{i = 1}^{r-1}R_{ir}q_i \\\\\n",
    "R_{rr} &= ||\\tilde{q}_r||_2 \\\\\n",
    "q_r &= \\frac{1}{R_{rr}}\\tilde{q}_r\n",
    "\\end{align}$$\n",
    "\n",
    "Further,\n",
    "\n",
    "$$\\begin{align}\n",
    "q_r^\\prime q_i &= q_r^\\prime a_r - \\sum_{j = 1}^{r-1}R_{jr}q_j^\\prime q_i \\\\\n",
    "& = q_r^\\prime a_r -R_{ir} \\\\\n",
    "& = 0\n",
    "\\end{align}$$\n",
    "\n",
    "Then,\n",
    "$$\\begin{align}\n",
    "\\sum_{i = 1}^{r}R_{ir}q_i &= \\sum_{i = 1}^{r-1}R_{ir}q_i + R_{rr}q_r \\\\\n",
    "&= \\sum_{i = 1}^{r-1}R_{ir}q_i + R_{rr}\\frac{1}{R_{rr}}\\tilde{q}_r \\\\\n",
    "&= \\sum_{i = 1}^{r-1}R_{ir}q_i + R_{rr}\\frac{1}{R_{rr}} (a_r - \\sum_{i = 1}^{r-1}R_{ir}q_i)\\\\\n",
    "&= a_r\n",
    "\\end{align}$$\n",
    "\n",
    "Thus,\n",
    "$$\\begin{equation}\n",
    "\\begin{bmatrix}a_1 & a_2 & \\cdots & a_r \\end{bmatrix} = \\begin{bmatrix}q_1 & q_2 & \\cdots & q_r \\end{bmatrix}\n",
    "\\begin{bmatrix}\n",
    "  R_{1,1} & R_{1,2} & \\cdots & R_{1,r} \\\\\n",
    "  0 & R_{2,2} & \\cdots & R_{2,n} \\\\\n",
    "  \\vdots  & \\vdots  & \\ddots & \\vdots  \\\\\n",
    "  0 & 0 & \\cdots & R_{r,r} \n",
    " \\end{bmatrix}\n",
    " \\end{equation}$$\n"
   ]
  },
  {
   "cell_type": "markdown",
   "metadata": {},
   "source": [
    "### Theorem: QR decompostion\n",
    "Let $A \\in R^{n \\times m}$. There exists:\n",
    "\n",
    "**(a)** $Q\\in R^{n\\times n}$, orthogonal matrix. **(b)**$R \\in R^{r\\times r}$, upper triangular matrix. \n",
    "\n",
    "**(c)**$S \\in R^{r \\times (m-r)}$. **(d)** $\\pi \\in R^{m \\times m}$, permutation matrix.\n",
    "\n",
    "$$\\begin{equation} A = Q \\begin{bmatrix}R & S\\\\ 0 & 0 \\end{bmatrix} \\pi^\\prime\\end{equation}$$"
   ]
  },
  {
   "cell_type": "markdown",
   "metadata": {},
   "source": [
    "**proof:**\n",
    "\n",
    "We can always find a permutation matrix $\\pi$ such that the first $r$ column of $A\\pi$ are linearly independent. \n",
    "This is because rank($A$) = $r$ and $A$ has $r$ linearly independent columns. By using Gram-Schmidt Process, $\\exists \\tilde{Q} \\in R^{n \\times r} \\,\\,\\&\\,\\, R \\in R^{r \\times r}$, $s.t$\n",
    "\n",
    "$$\\begin{equation} \\begin{bmatrix}a_1 & a_2 & \\cdots & a_r \\end{bmatrix} = \\tilde{Q}R \\end{equation}$$\n",
    "\n",
    "For $j = r+1, \\cdots, m$, $\\exists S_{k(j - r)}$, $k = 1, \\cdots, r$, $s.t$\n",
    "$$a_j = \\sum_{k = 1}^{r}S_{k(j - r)}a_k$$\n",
    "\n",
    "Thus,\n",
    "$$A\\pi = \\tilde{Q} \\begin{bmatrix}R & S\\end{bmatrix}$$\n",
    "\n",
    "Further, after completing $\\tilde{Q}$ we get,\n",
    "$$A\\pi = Q \\begin{bmatrix}R & S \\\\ 0 & 0\\end{bmatrix}$$\n"
   ]
  },
  {
   "cell_type": "markdown",
   "metadata": {},
   "source": [
    "\n",
    "**HW problem 1: Complete Q** \n",
    "<font color=\"brown\">\n",
    "GS gives back r orthogonal vectors, given A with dimension n x m with rank r < m. How do we find the remaining n-r column vectors of Q? Keep doing GS? Once we have found the r vectors that represent the column space of A, we cannot keep going because the remaining columns are linearly dependent on these r orthonormal vectors. If you remember, you just need any basis of R^n, and just orthogonalize with respect to those basis vectors until you generate a complete set of orthonormal vectors (the ability to do this a fundamental result in LA, that you all said to know when I asked about it). These vectors will not be unique because I can use any basis. But that will not matter because they will be multiplying by the 0's underneath the [R S] components of the matrix. \n",
    "</font>"
   ]
  },
  {
   "cell_type": "markdown",
   "metadata": {},
   "source": [
    "**HW problem 2: Implement regular gram-schmidt assuming A has full column rank.**"
   ]
  },
  {
   "cell_type": "markdown",
   "metadata": {},
   "source": [
    "Examples that show function works well enough\n",
    "\n",
    "**HW problem 3: Examples that show that gram-schmidt fails to recover**\n",
    "\n",
    "For exmaple: \n",
    "\n",
    "$\\begin{pmatrix} 1 &10^{-8} & 0 \\\\\n",
    "1 & 0 & 10^{-8}\\\\\n",
    "1 &0 & 0\n",
    "\\end{pmatrix}$\n",
    "\n",
    "GS fails but MGS works a little better than GS"
   ]
  },
  {
   "cell_type": "markdown",
   "metadata": {},
   "source": [
    "**HW problem 4: Look up Modified Gram-Schmidt, Implement it.**"
   ]
  },
  {
   "cell_type": "markdown",
   "metadata": {},
   "source": [
    "**HW problem 5(Optional Pivoting):** Implement MGS with column pivoting. Find an example where mgs fail while the mgs with column pivoting does not.\n",
    "\n",
    "Two useful paper: \n",
    "\n",
    "1. Businger, Galub: Linear Least Squares by Householder transformation\n",
    "\n",
    "2. Engler, The behavior of QR factorization algorithm with col pivoting"
   ]
  },
  {
   "cell_type": "markdown",
   "metadata": {},
   "source": [
    "**My answer for problem 2 and 4, Implementation**\n",
    "\n",
    "**reference:** \n",
    "\n",
    "http://www4.ncsu.edu/eos/users/w/white/www/white/ma580/chap3.3.PDF\n",
    "\n",
    "https://www.math.ucla.edu/~yanovsky/Teaching/Math151B/handouts/GramSchmidt.pdf"
   ]
  },
  {
   "cell_type": "code",
   "execution_count": 2,
   "metadata": {},
   "outputs": [
    {
     "data": {
      "text/plain": [
       "([0.707107 0.408248 -0.57735; 0.707107 -0.408248 0.57735; 0.0 0.816497 0.57735], [1.41421 0.707107 0.707107; 0.0 1.22474 0.408248; 0.0 0.0 1.1547])"
      ]
     },
     "execution_count": 2,
     "metadata": {},
     "output_type": "execute_result"
    }
   ],
   "source": [
    "using LinearAlgebra\n",
    "\n",
    "## Gram-Schmidt QR decompostion\n",
    "## With only one loop\n",
    "\n",
    "function gramschmidtQR(A)\n",
    "    \"\"\"\n",
    "    Implement the gram-schmidt procedure. \n",
    "    Input a full column rank matrix A.\n",
    "    Output Q and R.\n",
    "    \"\"\"\n",
    "    m, n = size(A)\n",
    "    r = rank(A)\n",
    "    if r != n\n",
    "        println(\"The input matrix is not full column rank\")\n",
    "    else\n",
    "        u1 = A[:,1]\n",
    "        e1 = u1 ./ norm(u1)\n",
    "        e = e1\n",
    "        R = zeros(n,1)\n",
    "        R[1] = A[:,1]'e1\n",
    "        for i in 2:n\n",
    "            ui = A[:, i] - sum(e.* (A[:,i]'*e), dims = 2)\n",
    "            e = hcat(e, ui ./ norm(ui))\n",
    "            t = zeros(n,1)\n",
    "            t[1:i] = A[:,i]'*e\n",
    "            R = hcat(R, t)\n",
    "        end\n",
    "    end\n",
    "    return e, R\n",
    "end\n",
    "    \n",
    "A = [1 1 0; 1 0 1; 0 1 1]\n",
    "Q, R = gramschmidtQR(A)\n"
   ]
  },
  {
   "cell_type": "code",
   "execution_count": 3,
   "metadata": {},
   "outputs": [
    {
     "data": {
      "text/plain": [
       "3×3 Array{Float64,2}:\n",
       " 0.707107   0.408248  -0.57735\n",
       " 0.707107  -0.408248   0.57735\n",
       " 0.0        0.816497   0.57735"
      ]
     },
     "execution_count": 3,
     "metadata": {},
     "output_type": "execute_result"
    }
   ],
   "source": [
    "Q "
   ]
  },
  {
   "cell_type": "code",
   "execution_count": 4,
   "metadata": {},
   "outputs": [
    {
     "data": {
      "text/plain": [
       "3×3 Array{Float64,2}:\n",
       " 1.41421  0.707107  0.707107\n",
       " 0.0      1.22474   0.408248\n",
       " 0.0      0.0       1.1547  "
      ]
     },
     "execution_count": 4,
     "metadata": {},
     "output_type": "execute_result"
    }
   ],
   "source": [
    "R"
   ]
  },
  {
   "cell_type": "code",
   "execution_count": 8,
   "metadata": {},
   "outputs": [
    {
     "data": {
      "text/plain": [
       "([0.707107 0.408248 -0.57735; 0.707107 -0.408248 0.57735; 0.0 0.816497 0.57735], [1.41421 0.707107 0.707107; 0.0 1.22474 0.408248; 0.0 0.0 1.1547])"
      ]
     },
     "execution_count": 8,
     "metadata": {},
     "output_type": "execute_result"
    }
   ],
   "source": [
    "## Gram-Schmidt QR decompostion\n",
    "## With two loops\n",
    "function gramschmidtQR2(A)\n",
    "    \"\"\"\n",
    "    Implement the gram-schmidt procedure. \n",
    "    Input a full column rank matrix A.\n",
    "    Output Q and R.\n",
    "    \"\"\"\n",
    "    m, n = size(A)\n",
    "    r = rank(A)\n",
    "    if r != n\n",
    "        println(\"The input matrix is not full column rank\")\n",
    "    else\n",
    "        Q = zeros(m, n)\n",
    "        R = zeros(n,n)\n",
    "        R[1,1] = norm(A[:,1])\n",
    "        Q[:,1] = A[:,1]./R[1,1]\n",
    "        for k = 2:n\n",
    "            z = A[:, k]\n",
    "            for i = 1:k-1\n",
    "                R[i,k] = A[:,k]'Q[:,i]\n",
    "                z = z - R[i,k]Q[:,i]\n",
    "            end\n",
    "            R[k,k] = norm(z)\n",
    "            Q[:, k] = z ./ R[k,k]\n",
    "        end\n",
    "    end\n",
    "    return Q, R\n",
    "end\n",
    "    \n",
    "A = [1 1 0; 1 0 1; 0 1 1]\n",
    "Q, R = gramschmidtQR2(A)\n"
   ]
  },
  {
   "cell_type": "code",
   "execution_count": 9,
   "metadata": {},
   "outputs": [
    {
     "data": {
      "text/plain": [
       "3×3 Array{Float64,2}:\n",
       " 0.707107   0.408248  -0.57735\n",
       " 0.707107  -0.408248   0.57735\n",
       " 0.0        0.816497   0.57735"
      ]
     },
     "execution_count": 9,
     "metadata": {},
     "output_type": "execute_result"
    }
   ],
   "source": [
    "Q"
   ]
  },
  {
   "cell_type": "code",
   "execution_count": 10,
   "metadata": {},
   "outputs": [
    {
     "data": {
      "text/plain": [
       "3×3 Array{Float64,2}:\n",
       " 1.41421  0.707107  0.707107\n",
       " 0.0      1.22474   0.408248\n",
       " 0.0      0.0       1.1547  "
      ]
     },
     "execution_count": 10,
     "metadata": {},
     "output_type": "execute_result"
    }
   ],
   "source": [
    "R"
   ]
  },
  {
   "cell_type": "code",
   "execution_count": 5,
   "metadata": {},
   "outputs": [
    {
     "data": {
      "text/plain": [
       "([0.5 0.5 0.316228; 0.5 0.5 -0.316228; 0.5 -0.5 0.632456; 0.5 -0.5 -0.632456], [2.0 1.0 1.5; 0.0 1.0 -0.5; 0.0 0.0 1.58114])"
      ]
     },
     "execution_count": 5,
     "metadata": {},
     "output_type": "execute_result"
    }
   ],
   "source": [
    "## Modified gram-schmidt QR decompostion\n",
    "## With two loops\n",
    "\n",
    "function modifiedGSQR(A)\n",
    "    \"\"\"\n",
    "    Implement the modifies gram-schmidt procedure.\n",
    "    Input a full column rank matrix A.\n",
    "    Output Q and R.\n",
    "    \"\"\"\n",
    "    m, n = size(A)\n",
    "    r = rank(A)\n",
    "    if r != n\n",
    "        println(\"The input matrix is not full column rank\")\n",
    "    else\n",
    "        Q = float(A)\n",
    "        R = zeros(n,n)\n",
    "        for k = 1:n\n",
    "            R[k,k] = norm(Q[:,k])\n",
    "            Q[:,k] = Q[:,k] ./ R[k,k]\n",
    "            for j = k+1:n\n",
    "                R[k,j] = A[:,j]'Q[:,k]\n",
    "                Q[:,j] = Q[:,j] - R[k,j]Q[:,k]\n",
    "            end\n",
    "        end\n",
    "    end\n",
    "    return Q, R\n",
    "end\n",
    "\n",
    "A = [1 1 1; 1 1 0 ; 1 0 2;1 0 0]\n",
    "Q, R = modifiedGSQR(A)"
   ]
  },
  {
   "cell_type": "code",
   "execution_count": 6,
   "metadata": {},
   "outputs": [
    {
     "data": {
      "text/plain": [
       "4×3 Array{Float64,2}:\n",
       " 0.5   0.5   0.316228\n",
       " 0.5   0.5  -0.316228\n",
       " 0.5  -0.5   0.632456\n",
       " 0.5  -0.5  -0.632456"
      ]
     },
     "execution_count": 6,
     "metadata": {},
     "output_type": "execute_result"
    }
   ],
   "source": [
    "Q"
   ]
  },
  {
   "cell_type": "code",
   "execution_count": 7,
   "metadata": {},
   "outputs": [
    {
     "data": {
      "text/plain": [
       "3×3 Array{Float64,2}:\n",
       " 2.0  1.0   1.5    \n",
       " 0.0  1.0  -0.5    \n",
       " 0.0  0.0   1.58114"
      ]
     },
     "execution_count": 7,
     "metadata": {},
     "output_type": "execute_result"
    }
   ],
   "source": [
    "R"
   ]
  },
  {
   "cell_type": "markdown",
   "metadata": {},
   "source": [
    "### Algorithms for QR factoriztion\n",
    "\n",
    "**Gram-Schmidt algorithm** : not recommended in practice(sensitive to rounding errors)\n",
    "\n",
    "**Modified Gram-Schmidt algorithm** : Better numerical properties\n",
    "\n",
    "**Householder algorithm**: represents Q as a product of elementary orthogonal matrices. the most widely used algorithm"
   ]
  },
  {
   "cell_type": "markdown",
   "metadata": {},
   "source": [
    "### Householder Refelctions\n",
    "\n",
    "reference: \n",
    "https://www.keithlantz.net/2012/05/qr-decomposition-using-householder-transformations/\n",
    "\n",
    "A Householder reflections is $H = I - 2vv^T$, where $||v||_2 = 1$\n",
    "\n",
    "$Hx$ is the refelction of $x$ about the hyperplane passing through the origin with normal vector $v$."
   ]
  },
  {
   "cell_type": "markdown",
   "metadata": {},
   "source": [
    "**HW problem 6 Lemma** Householder reflections are orthogonal matrix.\n",
    "\n",
    "$H^T = (I - 2vv^T)^T = H$, $H$ is symmetric matrix\n",
    "\n",
    "$H^TH = (I - 2vv^T)(I - 2vv^T) = I - 4vv^T + 4vv^Tvv^T = I - 4vv^T + 4vv^T = I$\n",
    "\n",
    "$Hv = (I - 2vv^T)v = -v$\n",
    "\n",
    "For a vector u orthogonal to v, we have\n",
    "\n",
    "$Hu = (I - 2vv^T)u = u$"
   ]
  },
  {
   "cell_type": "markdown",
   "metadata": {},
   "source": [
    "__*Lemma*__ There exist Householder reflections $H_1, \\dots, H_r$ such that $H_r \\dots H_1 \\cdot A \\cdot \\Pi = R$.\n",
    "\n",
    "__*Proof*__ Let $A\\Pi = \\begin{bmatrix} a_1 \\dots a_r \\end{bmatrix}$.\n",
    "\n",
    "Choose $H_1$ such that:\n",
    "\\begin{align}\n",
    "H_1a_1 = R_{11}e_1 \n",
    "\\end{align}\n",
    "\n",
    "for $e_1 = \\begin{bmatrix} 1 & 0 & \\dots & 0\\end{bmatrix}'$.\n",
    "\n",
    "Then:\n",
    "\n",
    "\\begin{align}\n",
    "\\|H_1a_1\\|_2 = \\|a_1\\|_2 &= \\|R_{11}e_1\\|_2 \\\\\n",
    "                         &= |R_{11}|\\|e_1\\|_2 \\\\\n",
    "                         & = |R_{11}| \\\\\n",
    "           \\pm \\|a_1\\|_2 & = R_{11}\n",
    "\\end{align}\n",
    "\n",
    "Going back to $H_1a_1 = R_{11}e_1$:\n",
    "\n",
    "\\begin{align}\n",
    "H_1a_1 = R_{11}e_1 &= a_1 - 2v_1v_1'a_1 \\\\\n",
    "v_1(v_1'a_1) &= \\frac{a_1 - R_{11}e_1}{2}\\\\\n",
    "\\end{align}\n",
    "\n",
    "From this, we now know that $v_1$ is a scalar multiple of $a_1 - R_{11}e_1$. Since it is also a unit vector:\n",
    "\n",
    "\\begin{align}\n",
    "v_1 = \\frac{a_1 - R_{11}e_1}{\\|a_1 - R_{11}e_1\\|_2}\\\\\n",
    "\\end{align}\n",
    "\n",
    "Substituting $R_{11} = \\pm \\|a_1\\|_2$:\n",
    "\n",
    "\\begin{align}\n",
    "v_1 = \\frac{a_1 \\pm \\|a_1\\|_2e_1}{\\|a_1 \\pm \\|a_1\\|_2e_1\\|_2}\\\\\n",
    "\\end{align}\n",
    "\n",
    "Finally:\n",
    "\n",
    "\\begin{align}\n",
    "H_1 &= I -  2\\frac{(a_1 \\pm \\|a_1\\|_2e_1)(a_1 \\pm \\|a_1\\|_2e_1)'}{\\|(a_1 \\pm \\|a_1\\|_2e_1)\\|_2^2}\n",
    "\\end{align}\n",
    "\n",
    "Once we have:\n",
    "\n",
    "\\begin{align}\n",
    "H_1A &= \n",
    "\\begin{bmatrix}\n",
    "R_{11} & R_{12} & R_{13} & \\dots & R_{1n} \\\\ \n",
    "0 & & & &  \\\\\n",
    "\\vdots & & A^{(2)} & & \\\\\n",
    "0 & & & & \\\\\n",
    "\\end{bmatrix}\\\\\n",
    "\\end{align}\n",
    "\n",
    "We fill out row $2$, columns $2:r$ of $R$ with $\\tilde{H}_2A^{(2)}$, and so on, until we arrive at:\n",
    "\n",
    "\\begin{align}\n",
    "R & = H_r \\dots H_1A \\\\\n",
    "Q & = H_1 \\dots H_r \\\\\n",
    "\\end{align}"
   ]
  },
  {
   "cell_type": "markdown",
   "metadata": {},
   "source": [
    "<font color=\"#188249\">\n",
    "    \n",
    "__Homework__ Show that for Householder reflections $H_1, \\dots, H_r$, $H_r \\cdot H_{r-1} \\cdot \\dots \\cdot H_1$ is orthogonal. Show that product is I.\n",
    "\n",
    "\\begin{align}\n",
    "(H_r \\cdot H_{r-1} \\cdot \\dots \\cdot H_1)'(H_r \\cdot H_{r-1} \\cdot \\dots \\cdot H_1) &= H_r' \\cdot H_{r-1}' \\cdot \\dots \\cdot H_1' \\cdot H_r \\cdot H_{r-1} \\cdot \\dots \\cdot H_1 \\\\\n",
    "&= H_r'H_r \\cdot H_{r-1}'H_{r-1} \\cdot \\dots \\cdot H_1' \\cdot H_1 \\\\\n",
    "&= I \\cdot \\dots \\cdot I \\\\\n",
    "&= I\n",
    "\\end{align}"
   ]
  },
  {
   "cell_type": "markdown",
   "metadata": {},
   "source": [
    "### Givens Rotations"
   ]
  },
  {
   "cell_type": "markdown",
   "metadata": {},
   "source": [
    "A Given rotation $G^{(i,j)}$ where $G^{(i,j)}$ is \n",
    "1. The $i^{th}$, $j^{th}$ elements on diag take $\\lambda$\n",
    "2. All the other diagonal elements are 1\n",
    "3. $G_{i,j}^{(i,j)} = \\sigma$\n",
    "4. $G_{j,i}^{(i,j)} = -\\sigma$\n",
    "\n",
    "Example $G^{(2,4)} = \\begin{bmatrix}1 & 0 &0&0 \\\\ \n",
    "0 & \\lambda &0&\\sigma \\\\\n",
    "0 & 0 & 1 & 0 \\\\\n",
    "0 & -\\sigma & 0 & \\lambda \\end{bmatrix}$"
   ]
  },
  {
   "cell_type": "markdown",
   "metadata": {},
   "source": [
    "**HW problem 7:** Show that a Givens Rotation is orthogonal when $\\lambda^2 + \\sigma^2 = 1$\n",
    "\n",
    "**My answer:**\n",
    "\n",
    "${G^{(i,j)}}^TG^{(i,j)} = H$, where $H$ satisfies:\n",
    "1. The ith and jth elements on diag take $\\lambda^2 + \\sigma^2$.\n",
    "2. The other elements on diag take $1$.\n",
    "3. The other elements is zero.\n",
    "\n",
    "Thus, $G^{(i,j)}$ is orthogonal $\\iff$ $\\lambda^2 + \\sigma^2 = 1$\n"
   ]
  },
  {
   "cell_type": "code",
   "execution_count": null,
   "metadata": {},
   "outputs": [],
   "source": []
  }
 ],
 "metadata": {
  "kernelspec": {
   "display_name": "Julia 1.0.0",
   "language": "julia",
   "name": "julia-1.0"
  },
  "language_info": {
   "file_extension": ".jl",
   "mimetype": "application/julia",
   "name": "julia",
   "version": "1.0.0"
  }
 },
 "nbformat": 4,
 "nbformat_minor": 2
}
