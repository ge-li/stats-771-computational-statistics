{
 "cells": [
  {
   "cell_type": "markdown",
   "metadata": {},
   "source": [
    "# Lecture16"
   ]
  },
  {
   "cell_type": "markdown",
   "metadata": {},
   "source": [
    "## Nonlinear Unconstrained Optimization"
   ]
  },
  {
   "cell_type": "markdown",
   "metadata": {},
   "source": [
    "### Outline.\n"
   ]
  },
  {
   "cell_type": "markdown",
   "metadata": {},
   "source": [
    "### 1. Motivating Problems"
   ]
  },
  {
   "cell_type": "markdown",
   "metadata": {},
   "source": [
    "### 2. Formalized Minimization"
   ]
  },
  {
   "cell_type": "markdown",
   "metadata": {},
   "source": [
    "<font color=brown>**Definition:**</font> An unconstained optimization: \n",
    "$$\\min_{\\theta \\in \\mathbb{R}^p} f(\\theta), \\,\\,\\,\\, f: \\mathbb{R}^p \\to \\mathbb{R}$$"
   ]
  },
  {
   "cell_type": "markdown",
   "metadata": {},
   "source": [
    "**A. Minimizers**\n",
    "\n",
    "<font color=brown>**Definition:**</font> \n",
    "\n",
    "1. The global minimum: $f^* = \\inf_{\\theta \\in \\mathbb{R}^p} f(\\theta)$. The global minimizer of $f$ is a point $\\theta^* \\in \\mathbb{R}^p$ s.t. $f^* = f(\\theta^*)$\n",
    "\n",
    "2. A local minimizer of $f$ is a point $\\theta^*$ AND a neighborhood N s.t. $f(\\theta^*) \\leq f(\\theta)$ $\\forall \\theta \\in N$, $f^* = f(\\theta^*)$ is a local minimum.\n",
    "\n",
    "3. A strict minimizer of $f$, $\\theta^*$ that is a minimizer and $\\exists$ a neighborhood $N$ s.t. $f(\\theta^*) < f(\\theta)$ $\\forall \\theta \\in N\\setminus\\{\\theta^*\\}$\n",
    "\n",
    "4. An Isolated minimizer is a minimizer $\\theta^*$ and a neighborhood $N$ s.t. $\\theta^*$ is the only minimizer in $N$\n"
   ]
  },
  {
   "cell_type": "markdown",
   "metadata": {},
   "source": [
    "<font color=blue>**HW Problem: Prove or find counter example**\n",
    "<br>\n",
    "1. $\\theta^*$ is a global minimizer $\\implies$ it is a local min.\n",
    "<br>\n",
    "2. $\\theta^*$ is a strict global minimizer $\\implies$ $\\theta^*$ is the only minimizer.\n",
    "<br>\n",
    "3. If $\\theta^*$ is an isolated global minimizer $\\implies$ $\\theta^*$ is the only global minimizer.\n",
    "<br>\n",
    "4. If $\\theta^*$ is a strict local minimizer $\\implies$ $\\theta^*$ is an isolated minimizer.\n",
    "<br>\n",
    "5. If $\\theta^*$ is an isolated minimizer $\\implies$ $\\theta^*$ is a strict local minimizer.\n",
    "</font>"
   ]
  },
  {
   "cell_type": "markdown",
   "metadata": {},
   "source": [
    "<font color=darkgreen>**My solution:**\n",
    "<br>\n",
    "1. Obviously true.\n",
    "<br>\n",
    "If $\\theta^*$ is a global minimizer, then for any point $\\theta \\in R^p$, we have $f(\\theta) \\geq f(\\theta^*)$. \n",
    "Thus we can find countless neighborhood N s.t. $f(\\theta^*) \\leq f(\\theta_N)$ $\\forall \\theta_N \\in N$\n",
    "</font>    "
   ]
  },
  {
   "cell_type": "markdown",
   "metadata": {},
   "source": [
    "<font color=darkgreen>\n",
    "2. True\n",
    "    <br>\n",
    "If $\\theta^*$ is a strict global minimizer, then for any point $\\theta \\in R^p$, we have $f(\\theta) > f(\\theta^*)$. Thus $\\theta^*$ is the only global minimizer\n",
    "</font>    "
   ]
  },
  {
   "cell_type": "markdown",
   "metadata": {},
   "source": [
    "<font color=darkgreen>\n",
    "3. False.\n",
    "    <br>\n",
    "For example $f(\\theta) = sin(\\theta)$. Then $\\theta^* = \\frac{3}{2} \\pi + 2k\\pi$ are isolated global minimizer but there are numerous global minimizer.\n",
    "</font>    "
   ]
  },
  {
   "cell_type": "markdown",
   "metadata": {},
   "source": [
    "<font color=darkgreen>\n",
    "4. False.\n",
    "    <br>\n",
    "An simple example would be:\n",
    "    $$f(x) = \\begin{cases}\n",
    "  0 & \\text{if}\\,x = 0)\\\\    \n",
    "  1    & \\text{if}\\, x \\neq 0\n",
    "\\end{cases}$$\n",
    "Thus $\\theta^* = 0$ is a strict local minimizer but it is not an isolated local minimizer.\n",
    "</font>    "
   ]
  },
  {
   "cell_type": "markdown",
   "metadata": {},
   "source": [
    "<font color=darkgreen>\n",
    "5. True\n",
    "    <br>\n",
    "A rigorous proof is in CS 726 HW 1.\n",
    "<br>\n",
    "If isolated $\\implies$ strict then not strict $\\implies$ not isolated.\n",
    "<br>\n",
    "suppose $x^*$ is not a strict minimizer \n",
    "<br>\n",
    "Two scenario,\n",
    "<br>\n",
    "(i) $x^*$ is not a local minimizer $\\implies$ $x^*$ is not a strict local minimizer.\n",
    "<br>\n",
    "(ii) $x^*$ is a loal minimizer but not a strict minimizer.\n",
    " <br>\n",
    "    Then $\\exists$ a neighborhood $N$ of $x^*$ s.t. $\\forall x \\in N $, $f(x) \\geq f(x^*)$.\n",
    "    Given $x^*$ is not a strict minimizer, then $\\exists y^* \\in N$ s.t. $f(y^*) = f(x^*)$.\n",
    "    Thus $x^*$ is not an isolated minimizer\n",
    "</font>    "
   ]
  },
  {
   "cell_type": "markdown",
   "metadata": {},
   "source": [
    "**B. Differentiability**\n",
    "\n",
    "<font color=brown>**Lemma(First order necessary condition):**</font> Suppose $f \\in C^1$. If $\\theta^*$ is local minimizer $\\implies$ $\\nabla f(\\theta^*) = 0$\n",
    "\n",
    "**proof:**\n",
    "\n",
    "Assume $\\nabla f(\\theta^*) \\neq 0$. Consider $g(\\alpha) = f(\\theta^* - \\alpha \\nabla f(\\theta^*)) - f(\\theta^*)$, $\\alpha \\geq 0$.\n",
    "\n",
    "Taylor Theorem: $g(\\alpha) - g(0) = g^\\prime(\\beta)\\alpha$ for some $\\beta \\in (0, \\alpha)$. Then,\n",
    "\n",
    "$$f(\\theta^* - \\alpha \\nabla f(\\theta^*)) - f(\\theta^*) = -\\nabla f(\\theta^* - \\beta \\nabla f(\\theta^*))^\\prime \\nabla f(\\theta^*) \\alpha$$\n",
    "\n",
    "Because $0 < \\nabla f(\\theta^* + v)^\\prime \\nabla f(\\theta^*)$, If $\\alpha$ is sufficiently small $0 \\leq f(\\theta^* - \\alpha \\nabla f(\\theta^*)) - f(\\theta^*) <0$. Contradiction!\n"
   ]
  },
  {
   "cell_type": "markdown",
   "metadata": {},
   "source": [
    "<font color=blue>**HW Problem: **\n",
    "Is this condition sufficient\n",
    "</font>"
   ]
  },
  {
   "cell_type": "markdown",
   "metadata": {},
   "source": [
    "<font color=darkgreen>**My solution:**\n",
    "No, it is not. For example $f(x) = x^3$\n",
    "</font> "
   ]
  },
  {
   "cell_type": "markdown",
   "metadata": {},
   "source": [
    "<font color=brown>**Lemma(Second order necessary condition):**</font> Suppose $f \\in C^2$. If $\\theta^*$ is local minimizer $\\implies$ $\\nabla f(\\theta^*) = 0$ and $\\nabla^2f(\\theta^*)  \\succeq 0$ i.e. $\\nabla^2f(\\theta^*)$ is positive semidefinite."
   ]
  },
  {
   "cell_type": "markdown",
   "metadata": {},
   "source": [
    "**proof:**\n",
    "\n",
    "Suppose $\\exists v \\in \\mathbb{R}^p$, $||v|| = 1$ s.t. $v^T\\nabla^2f(\\theta^*)v <0$. Thus, $\\exists$ a neighborhood $\\mathbb{U}$ of $\\theta^*$ s.t. $v^T\\nabla^2f(u)v <0$ $\\forall u \\in \\mathbb{U}$. Therefore, if $\\alpha$ is sufficiently small, \n",
    "$$0 \\leq f(\\theta^* + \\alpha v) - f(\\theta^*) = \\nabla f(\\theta^*)^T\\alpha v + \\frac{\\alpha^2}{2}v^T\\nabla^2f(\\theta^* + \\beta v)v < 0, \\,\\,\\,\\,\\beta \\in (0, \\alpha)$$\n"
   ]
  },
  {
   "cell_type": "markdown",
   "metadata": {},
   "source": [
    "<font color=brown>**Lemma(Second order sufficient condition):**</font> \n",
    "\n",
    "Suppose $f \\in C^2$. If $\\nabla f(\\theta^*) = 0$ and $\\nabla^2f(\\theta^*)  \\succ 0$ i.e. $\\nabla^2f(\\theta^*)$ is positive definite. Then, $\\theta^*$ is local minimizer"
   ]
  },
  {
   "cell_type": "markdown",
   "metadata": {},
   "source": [
    "**proof:**\n",
    "\n",
    "$\\nabla^2f(\\theta^*) \\succ 0$, $\\exists$ a neighborhood $\\mathbb{U}$ of $\\theta^*$ s.t. $\\nabla^2f(u) \\succ 0$ \n",
    "$\\forall u \\in \\mathbb{U}$. \n",
    "\n",
    "Let $u \\in \\mathbb{U}$ and $v = u - \\theta^*$, $\\theta^* + tv = \\theta^* + t(u - \\theta^*) \\in \\mathbb{U}$\n",
    "\n",
    "$$f(\\theta^* + v) - f(\\theta^*) = \\nabla f(\\theta^*)^T v + \\frac{1}{2} v^T\\nabla^2f(\\theta^* + tv)v, \\,\\,\\,\\, t \\in (0,1)$$\n",
    "\n",
    "Thus $f(\\theta^* + v) - f(\\theta^*) > 0$, $u \\in \\mathbb{U}$, $v = u-\\theta^*$"
   ]
  },
  {
   "cell_type": "markdown",
   "metadata": {},
   "source": [
    "**C. Convexity, Differentiability, Minimizer**\n",
    "\n",
    "<font color=brown>**Definition:**</font> \n",
    "\n",
    "$f$ is convex if $\\forall x, y \\in \\mathbb{R}^p$ and $\\lambda \\in [0,1]$, $f(\\lambda x + (1-\\lambda)y) \\leq \\lambda f(x) + (1-\\lambda)f(y)$\n",
    "\n",
    "$f$ is strictly convex if $\\forall x, y \\in \\mathbb{R}^p$ and $\\lambda \\in (0,1)$, $f(\\lambda x + (1-\\lambda)y) > \\lambda f(x) + (1-\\lambda)f(y)$\n",
    "\n",
    "$f$ is strongly convex if $\\forall x, y \\in \\mathbb{R}^p$ and $\\lambda \\in [0,1]$ and a parameter $\\sigma >0$, $f(\\lambda x + (1-\\lambda)y) \\leq \\lambda f(x) + (1-\\lambda)f(y) - \\frac{1}{2}\\sigma \\lambda (1-\\lambda) ||x - y||_2^2$\n"
   ]
  },
  {
   "cell_type": "markdown",
   "metadata": {},
   "source": [
    "<font color=brown>**Lemmas: Convex + differentiable**</font> \n",
    "\n",
    "1. Suppose $f \\in C^1$, $f$ is convex $\\iff$ $f(y) \\geq f(x) + \\nabla f(x)^T(y-x)$, $\\forall x,y \\in \\mathbb{R}^p$.\n",
    "\n",
    "2. Suppose $f \\in C^1$, $f$ is strongly convex $\\iff$ $f(y) \\geq f(x) + \\nabla f(x)^T(y-x) + \\frac{1}{2}\\sigma ||x-y||_2^2$, $\\forall x,y \\in \\mathbb{R}^p$.\n",
    "\n",
    "3. Suppose $f \\in C^1$, $f$ is strongly convex $\\iff$ $\\nabla f(x) \\succ \\sigma I$, $\\forall x \\in \\mathbb{R}^p$\n"
   ]
  },
  {
   "cell_type": "markdown",
   "metadata": {},
   "source": [
    "**proof:**\n",
    "\n",
    "**1.**\n",
    "\n",
    "$(\\Rightarrow)$\n",
    "\n",
    "$$ \\begin{align}\n",
    "\\nabla f(x)^T (y - x) &= \\left. \\frac{d}{d\\lambda}  f(x + \\lambda(y-x))  \\right|_{\\lambda=0} \\\\\n",
    "&= \\lim_{\\lambda \\downarrow 0} \\frac{f(x + \\lambda(y-x)) - f(x)}{\\lambda} \\\\\n",
    "&\\leq \\lim_{\\lambda \\downarrow 0} \\frac{(1-\\lambda)f(x) + \\lambda f(y) - f(x)}{\\lambda} \\\\\n",
    "&\\leq f(y) - f(x)\n",
    "\\end{align}$$\n",
    "\n",
    "$(\\Leftarrow)$\n",
    "\n",
    "$x, y \\in \\mathbb{R}^p$. Let $\\lambda \\in [0,1]$, $z = \\lambda x + (1 - \\lambda)y$, so \n",
    "$$y - z = \\lambda (y-x)$$\n",
    "$$x - z = (1 -\\lambda) (x-y)$$\n",
    "Thus,\n",
    "$$f(y) \\geq f(z) + \\nabla^f(z)^T \\lambda (y - x)$$\n",
    "$$f(x) \\geq f(z) + \\nabla^f(z)^T (1-\\lambda) (x - y)$$\n",
    "Combine these two inequalities, we get,\n",
    "\n",
    "$$(1-\\lambda)f(y) + \\lambda f(x) \\geq f( (1-\\lambda)y + \\lambda x  )$$"
   ]
  },
  {
   "cell_type": "markdown",
   "metadata": {},
   "source": [
    "**2.**\n",
    "\n",
    "$(\\Rightarrow)$\n",
    "\n",
    "$$ \\begin{align}\n",
    "\\nabla f(x)^T (y - x) &= \\left. \\frac{d}{d\\lambda}  f(x + \\lambda(y-x))  \\right|_{\\lambda=0} \\\\\n",
    "&= \\lim_{\\lambda \\downarrow 0} \\frac{f(x + \\lambda(y-x)) - f(x)}{\\lambda} \\\\\n",
    "&\\leq \\lim_{\\lambda \\downarrow 0} \\frac{(1-\\lambda)f(x) + \\lambda f(y) - \\frac{1}{2}\\sigma ||x-y||_2^2 - f(x)}{\\lambda} \\\\\n",
    "&\\leq f(y) - f(x) - \\frac{1}{2}\\sigma ||x-y||_2^2\n",
    "\\end{align}$$\n",
    "\n",
    "\n",
    "$(\\Leftarrow)$\n",
    "$x, y \\in \\mathbb{R}^p$. Let $\\lambda \\in [0,1]$, $z = \\lambda x + (1 - \\lambda)y$ and use the inequality twice\n",
    "\n",
    "$$f(x) \\geq f(z) + \\nabla f(z)^T (x - z) + \\frac{1}{2}\\sigma ||x-z||_2^2$$\n",
    "$$f(y) \\geq f(z) + \\nabla f(z)^T (y - z) + \\frac{1}{2}\\sigma ||y-z||_2^2$$\n",
    "\n",
    "Then,\n",
    "\n",
    "$$\\lambda f(x) + (1-\\lambda)f(y) \\geq f(\\lambda x + (1 - \\lambda)y) + \\frac{1}{2}\\sigma \\lambda ||x-z||_2^2 + \n",
    "\\frac{1}{2}\\sigma (1-\\lambda)||y-z||_2^2 \\geq f(\\lambda x + (1 - \\lambda)y) + \\frac{1}{2}\\sigma \\lambda (1-\\lambda) ||x-y||_2^2$$\n"
   ]
  },
  {
   "cell_type": "markdown",
   "metadata": {},
   "source": [
    "**3.**\n",
    "\n",
    "$(\\Rightarrow)$\n",
    "\n",
    "Suppose $\\exists z, v$ s.t. $v^T \\nabla^2 f(z) v < \\sigma ||v||_2^2$, thus, $\\exists$ a neighborhood $\\mathbb{U}$ of $z$ s.t. $\\forall u \\in \\mathbb{U}$, $v^T\\nabla^2 f(u) v < {\\sigma} ||v||_2^2$.\n",
    "\n",
    "Let $\\alpha > 0$ sufficiently small so that $z + t\\alpha v \\in \\mathbb{U}$, $t \\in (0,1)$\n",
    "\n",
    "$$\\frac{\\sigma \\alpha^2}{2} ||v||_2^2 > \\frac{\\alpha^2}{2}v^T \\nabla^2 f(z+t\\alpha v) v = f(z + \\alpha v) - f(z) - \\nabla f(z)^T \\alpha v \\geq \\frac{\\sigma \\alpha^2}{2}||v||_2^2$$\n",
    "\n",
    "Contradiction!\n",
    "\n",
    "$(\\Leftarrow)$\n",
    "\n",
    "$$\\forall z, v \\in \\mathbb{R}^p$, $f(z + v) - f(z) - \\nabla f(z)^T v = \\frac{1}{2}v^T\\nabla^2 f(x) v \\leq \\frac{1}{2} \\sigma ||v||_2^2$$"
   ]
  },
  {
   "cell_type": "markdown",
   "metadata": {},
   "source": [
    "<font color=brown>**Lemmas: Optimality**</font> \n",
    "\n",
    "1. If $f$ is convex, then any local minimizer is global minimizer.\n",
    "2. If $f$ is strongly convex, then global minimizer is unique.\n",
    "3. If $f$ is convex and $C^1$, then $\\nabla f(x^*) = 0$ $\\implies$ $x^*$ is a minimizer."
   ]
  },
  {
   "cell_type": "markdown",
   "metadata": {},
   "source": [
    "<font color=brown>**Examples:**</font> \n",
    "\n",
    "Some good examples of convex, strict convex and strong convex functions.\n",
    "\n",
    "https://en.wikipedia.org/wiki/Convex_function#Strongly_convex_functions"
   ]
  },
  {
   "cell_type": "markdown",
   "metadata": {},
   "source": [
    "# Lecture17"
   ]
  },
  {
   "cell_type": "markdown",
   "metadata": {},
   "source": [
    "**proof of previous lemma:**\n",
    "\n",
    "**1.**\n",
    "\n",
    "Suppose $x^*$ is a local minimizer, this implies that $\\exists$ a neighborhood of $x^*$ $\\mathbb{U}$ s.t. $f(x^*) \\leq f(u) \\forall u \\in \\mathbb{U}$. \n",
    "\n",
    "Assume $\\exists y \\in R^P$ s.t. $f(y) < f(x^*)$, then, $\\exists \\lambda \\in (0,1)$, $y + \\lambda(x^* - y) \\in \\mathbb{U}$\n",
    "\n",
    "$$f(y + \\lambda(x^* - y)) \\leq (1-\\lambda)f(y) + \\lambda f(x^*) < f(x^*)$$"
   ]
  },
  {
   "cell_type": "markdown",
   "metadata": {},
   "source": [
    "**2.**\n",
    "\n",
    "**uniqueness:**\n",
    "\n",
    "Let $x,y\\in\\mathbb{R}^p$ be two global minimizers of $f$ and $x \\neq y$. Denote $f^* = f(x) = f(y)$. Thus,\n",
    "\n",
    "$$f(\\lambda x + (1-\\lambda)y) + \\frac{1}{2}\\sigma \\lambda(1-\\lambda)||x-y||_2^2 \\leq (1-\\lambda)f(y) + \\lambda f(x) = f^*$$\n",
    "\n",
    "If $\\lambda = \\frac{1}{2}$, then $f(\\frac{x+y}{2}) < f^*$, contradiction!\n",
    "\n",
    "**existence:**\n",
    "\n",
    "$$\\begin{align}\n",
    "f(y) &\\geq f(x) + \\nabla f(x)^T(y-x) + \\frac{1}{2}\\sigma||y-x||_2^2 \\\\\n",
    "&\\geq f(x) - ||\\nabla f(x)||_2||y-x||_2 + \\frac{1}{2}\\sigma||y-x||_2^2 \\\\\n",
    "&\\geq f(x) + \\{ \\frac{1}{2}\\sigma||y-x||_2 -  ||\\nabla f(x)||_2\\}||y-x||_2 \n",
    "\\end{align}$$\n",
    "\n",
    "Define $R > 0$ s.t. $\\frac{1}{2}\\sigma R - ||\\nabla f(x)||_2 = 0$\n",
    "\n",
    "Defin $D = \\{z \\in \\mathbb{R}^p: ||z-x||_2 \\leq R \\}$\n",
    "\n",
    "(a). $\\exists x^* \\in D$ s.t. $f(x^*) \\leq f(z) \\forall z \\in D$ (<font color=brown>**that's why we need continuous condition**</font> \n",
    ")\n",
    "\n",
    "(b). $\\forall z \\in D^c$, $||z - x||_2 > R$ $\\implies f(z) \\geq f(x)$\n",
    "\n",
    "so, $\\forall z in D$, $f(x^*) \\leq f(z)$; $\\forall z \\in D^c$, $f(x^*) \\leq f(x) \\leq f(z)$(<font color=brown>**note that $x \\in D$**</font> \n",
    ")\n",
    "\n",
    "so, $f(x^*) \\leq f(z) \\forall z \\in \\mathbb{R}^p$"
   ]
  },
  {
   "cell_type": "markdown",
   "metadata": {},
   "source": [
    "**3.**\n",
    "\n",
    "$(\\Rightarrow)$\n",
    "\n",
    "$x^*$ is local minimizer $\\implies$ $\\nabla f(x^*) = 0$\n",
    "\n",
    "$(\\Leftarrow)$\n",
    "\n",
    "If $\\nabla f(x^*) = 0$, $f(y) \\geq f(x^*) + \\nabla f(x^*)^T(y-x^*) \\geq f(x^*) $"
   ]
  },
  {
   "cell_type": "markdown",
   "metadata": {},
   "source": [
    "<font color=blue>**HW Problem: (Prove or find counter example) **\n",
    "<br>\n",
    "1. Suppose $f \\in C^1$, $f$ is convex $\\iff$ $\\forall x, y\\in \\mathbb{R}^p$, $(\\nabla f(x)-\\nabla f(y))^T(x-y) \\geq 0$\n",
    "<br>\n",
    "2. Suppose $f \\in C^2$, $f$ is convex $\\iff$ $\\forall x \\in \\mathbb{R}^p$, $\\nabla^2f(x)  \\succeq 0$\n",
    "<br>\n",
    "3. Suppose $f \\in C^1$, f is strongly convex with $\\sigma > 0$ $\\iff$ $\\forall x, y\\in \\mathbb{R}^p$, $(\\nabla f(x)-\\nabla f(y))^T(x-y) \\geq \\sigma ||x-y||_2^2$\n",
    "</font>"
   ]
  },
  {
   "cell_type": "markdown",
   "metadata": {},
   "source": [
    "<font color=darkgreen>**My solution:**\n",
    "\n",
    "<br>\n",
    "**1:**\n",
    "<br>\n",
    "</font> \n",
    "\n",
    "$(\\Rightarrow)$\n",
    "\n",
    "Use this Lemma: Suppose $f \\in C^1$, $f$ is convex $\\iff$ $f(y) \\geq f(x) + \\nabla f(x)^T(y-x)$, $\\forall x,y \\in \\mathbb{R}^p$.\n",
    "\n",
    "We have, \n",
    "\n",
    "$$f(y) \\geq f(x) + \\nabla f(x)^T(y-x)$$\n",
    "$$f(x) \\geq f(y) + \\nabla f(y)^T(x-y)$$\n",
    "\n",
    "Sum these two inequalities together \n",
    "\n",
    "$$ f(y) + f(x) \\geq f(x)+f(y)+ (\\nabla f(x) - \\nabla f(y))^T(y-x)$$\n",
    "\n",
    "Thus, \n",
    "$$(\\nabla f(x)-\\nabla f(y))^T(x-y) \\geq 0$$\n",
    "\n",
    "$(\\Leftarrow)$\n",
    "\n",
    "For the converse part, we need to use Taylor Theorem:\n",
    "$$f(x+p) = f(x) + \\int_{0}^{1}\\nabla f(x+\\gamma p)^Tp d\\gamma$$\n",
    "$$f(x+p) = f(x) + \\nabla f(x+\\gamma p)^Tp, \\,\\,\\, for\\,some\\, \\gamma \\in (0,1)$$\n",
    "\n",
    "If $\\forall x, y\\in \\mathbb{R}^p$, $(\\nabla f(x)-\\nabla f(y))^T(x-y) \\geq 0$, Let $\\lambda \\in [0,1]$, $z = \\lambda x + (1 - \\lambda)y$,\n",
    "\n",
    "$$\n",
    "\\begin{align} f(x) &= f(z) + \\int_{0}^{1}\\nabla f(z+\\gamma (z-x))^T(z-x) d\\gamma \\\\\n",
    "&= f(z) + \\int_{0}^{1}\\nabla f(z+\\gamma (z-x))^T (1-\\lambda)(x-y) d\\gamma \n",
    "\\end{align}$$\n",
    "\n",
    "Similarly,\n",
    "\n",
    "$$\\begin{align}\n",
    "f(y) & = f(z) + \\int_{0}^{1}\\nabla f(z+\\gamma (z-y))^T(z-y) d\\gamma \\\\\n",
    "& = f(z) + \\int_{0}^{1}\\nabla f(z+\\gamma (z-y))^T \\lambda (y-x) d\\gamma\n",
    "\\end{align}$$\n",
    "\n",
    "Let the first inequality times $\\lambda$ and let the second one times $(1-\\lambda)$ we will get\n",
    "\n",
    "$$\\begin{align}\n",
    "\\lambda f(x) + (1-\\lambda) f(y) &= f(z) - \\lambda (1-\\lambda) \\int_{0}^{1} (f(z+\\gamma (z-x)) - f(z+\\gamma (z-y)))^T(x-y) d\\gamma \\\\\n",
    "& = f(z) - \\lambda (1-\\lambda) \\int_{0}^{1} (f(z+\\gamma (z-x)) - f(z+\\gamma (z-y)))^T[(z+\\gamma (z-y))-(z+\\gamma (z-x)))] \\frac{1}{\\gamma} d\\gamma  \\\\\n",
    "& \\leq f(z) \\\\\n",
    "& = f(\\lambda x + (1 - \\lambda)y)\n",
    "\\end{align}$$\n",
    "\n",
    "\n"
   ]
  },
  {
   "cell_type": "markdown",
   "metadata": {},
   "source": [
    "<font color=darkgreen>**2:**\n",
    "</font>  \n",
    "\n",
    "We need to use the second other taylor theorem:\n",
    "$$f(x + p) = f(x) + \\nabla f(x)^Tp + \\frac{1}{2} p^T\\nabla^2 f(x+\\gamma p)p,\\,\\,\\, some\\,\\gamma \\in (0,1)$$\n",
    "\n",
    "and this lemma:\n",
    "\n",
    "Suppose $f \\in C^1$, $f$ is convex $\\iff$ $f(y) \\geq f(x) + \\nabla f(x)^T(y-x)$, $\\forall x,y \\in \\mathbb{R}^p$.\n",
    "\n",
    "\n",
    "$(\\Rightarrow)$\n",
    "\n",
    "For this part of proof, refer to the book Convex Optimization (Stephen Boyd), Page 71 and Exercise 3.8\n",
    "\n",
    "I attached a picture in the following cell\n",
    "\n",
    "$(\\Leftarrow)$\n",
    "\n",
    "From taylor theorem: \n",
    "\n",
    "$$\\begin{align}\n",
    "f(y) &= f(x) + \\nabla f(x)^T(y-x) + \\frac{1}{2} (y-x)^T\\nabla^2 f(x+\\gamma(y-x))(y-x)\\\\\n",
    "& \\geq f(x) + \\nabla f(x)^T(y-x)\n",
    "\\end{align}$$\n",
    "\n",
    "end of proof\n"
   ]
  },
  {
   "cell_type": "markdown",
   "metadata": {},
   "source": [
    "**How to insert pictures in juypter note book:**\n",
    "\n",
    "https://www.youtube.com/watch?v=xlD8FIM5biA"
   ]
  },
  {
   "cell_type": "markdown",
   "metadata": {},
   "source": [
    "<img src=\"3_8.png\", width = 700, height = 700>"
   ]
  },
  {
   "cell_type": "markdown",
   "metadata": {},
   "source": [
    "<font color=darkgreen>**3:**\n",
    "</font>  \n",
    "\n",
    "We need to use this lemma:\n",
    "\n",
    " Suppose $f \\in C^1$, $f$ is strongly convex $\\iff$ $f(y) \\geq f(x) + \\nabla f(x)^T(y-x) + \\frac{1}{2}\\sigma ||x-y||_2^2$, $\\forall x,y \\in \\mathbb{R}^p$.\n",
    " \n",
    " $(\\Rightarrow)$\n",
    " \n",
    " Use the Lemma twice and sum them together to get the desired result.\n",
    " \n",
    " $(\\Leftarrow)$\n",
    " \n",
    " The same idea as <font color=darkgreen>**problem 1**\n",
    "</font> ."
   ]
  },
  {
   "cell_type": "markdown",
   "metadata": {},
   "source": [
    "<font color=brown>**Lemmas: Convexity + Lipschitz**</font> \n",
    "\n",
    "Suppose $f \\in C^1$ convex, The following are equivalent\n",
    "\n",
    "1. $\\nabla f(x)$ is Lipschitz continuous $L > 0$\n",
    "\n",
    "2. For any $x, y \\in \\mathbb{R}^P$, $$0 \\leq f(y) - f(x) - \\nabla f(x)^T(y-x) \\leq \\frac{L}{2}||y-x||_2^2$$\n",
    "\n",
    "3. For any $x, y$, $$f(y) \\geq f(x) + \\nabla f(x)^T(y-x) + \\frac{1}{2L}||\\nabla f(x) - \\nabla f(y)||_2^2$$\n",
    "\n",
    "4. For any $x, y$, $$(\\nabla f(x) - \\nabla f(y))^T(x-y) \\geq \\frac{1}{L}||\\nabla f(x) - \\nabla f(y)||_2^2$$\n",
    "\n"
   ]
  },
  {
   "cell_type": "markdown",
   "metadata": {},
   "source": [
    "**proof:**\n",
    "\n",
    "<font color=blue>\n",
    "(1) $\\implies$ (2) HW </font>\n",
    "\n",
    "Use this Lemma: Suppose $f \\in C^1$, $f$ is convex $\\iff$ $f(y) \\geq f(x) + \\nabla f(x)^T(y-x)$, $\\forall x,y \\in \\mathbb{R}^p$. \n",
    "\n",
    "Apply this Lemma, directly get:\n",
    "$$0 \\leq f(y) - f(x) - \\nabla f(x)^T(y-x)$$\n",
    "\n",
    "Apply Taylor Theorem:\n",
    "$$f(x+p) = f(x) + \\nabla f(x)^Tp + \\frac{1}{2}p^T \\nabla^2f(x+\\gamma p)p, \\,\\,\\gamma \\in (0,1)$$\n",
    "$$f(x+p) = f(x) + \\nabla f(x)^Tp + \\int_{0}^{1} [\\nabla f(x + \\gamma p) - \\nabla f(x)]^Tp d\\gamma $$\n",
    "\n",
    "Thus,\n",
    "$$\\begin{align} f(y) - f(x) - \\nabla f(x)^T(y-x) &=  \\int_{0}^{1} [\\nabla f(x + \\gamma (y-x)) - \\nabla f(x)]^T(y-x) d\\gamma\\\\\n",
    "& \\leq \\int_{0}^{1} ||[\\nabla f(x + \\gamma (y-x)) - \\nabla f(x)]||_2 ||(y-x)|| d\\gamma \\\\\n",
    "& \\leq L||y-x||_2^2 \\int_{0}^{1} d\\gamma \\\\\n",
    "& = \\frac{L}{2}||y-x||_2^2\n",
    "\\end{align}$$\n",
    "\n",
    "\n"
   ]
  },
  {
   "cell_type": "markdown",
   "metadata": {},
   "source": [
    "<font color=blue>\n",
    "(2) $\\implies$ (3) </font>\n",
    "\n",
    "Fix $x \\in \\mathbb{R}^p$, $\\phi_x(y) = f(y) - y^T\\nabla f(x)$, Then $\\phi_x(y)$ is a convex function. Notice that:\n",
    "\n",
    "$$(a)\\,\\, \\nabla\\phi_x(y) = \\nabla f(y) - \\nabla f(x), \\implies x \\,\\text{is the minimizer of } \\phi_x$$\n",
    "$$(b)\\phi_x(y) - \\phi_x(z) -\\phi_x(z)^T(y-z) = f(y) - f(z) - \\nabla f(z)^T(y-z) \\leq \\frac{L}{2}||y-z||^2_2$$\n",
    "\n",
    "Combine (a) and (b) we can get,\n",
    "\n",
    "$$\\phi_x(x) \\leq \\phi_x(y) \\leq \\phi_x(z) + \\nabla \\phi_x(z)^T(y-z) + \\frac{L}{2}||y-z||_2^2$$\n",
    "\n",
    "minimize the uppder bound w.r.t $y$, we get $y = z - \\frac{1}{L}\\nabla\\phi_x(z) = z- \\frac{1}{L}(\\nabla f(z) - \\nabla f(x))$\n",
    "\n",
    "Thus,\n",
    "$$ \\phi_x(x) \\leq \\phi_x( z - \\frac{1}{L}\\nabla\\phi_x(z)) \\leq \\phi_x(z) - \\frac{1}{2L}||\\nabla \\phi_x(z)||_2^2$$\n"
   ]
  },
  {
   "cell_type": "markdown",
   "metadata": {},
   "source": [
    "<font color=blue>\n",
    "(3) $\\implies$ (4) HW </font>\n",
    "\n",
    "Use the inequality in (3) twice to get the desired results. That is:\n",
    "\n",
    "$$f(y) \\geq f(x) + \\nabla f(x)^T(y-x) + \\frac{1}{2L}||\\nabla f(x) - \\nabla f(y)||_2^2$$\n",
    "$$f(x) \\geq f(y) + \\nabla f(y)^T(x-y) + \\frac{1}{2L}||\\nabla f(x) - \\nabla f(y)||_2^2$$"
   ]
  },
  {
   "cell_type": "markdown",
   "metadata": {},
   "source": [
    "<font color=blue>\n",
    "(4) $\\implies$ (1)</font>\n",
    "\n",
    "$$||\\nabla f(x) - \\nabla f(y)||_2^2 \\leq L (\\nabla f(x) - \\nabla f(y))^T(x-y) \\leq L ||\\nabla f(x) - \\nabla f(y)||_2||x-y||_2$$\n",
    "\n"
   ]
  },
  {
   "cell_type": "markdown",
   "metadata": {},
   "source": [
    "**D. Algorithm Theoretical Review**\n",
    "\n",
    "<font color=brown>**Lemmas: Zoutendjik's Theorem**</font> \n",
    "\n",
    "Let $f: \\mathbb{R}^P \\rightarrow \\mathbb{R}$:\n",
    "    1. f is a convex function, $\\exists f^* = \\inf_{x \\in \\mathbb{R}} f(x) > -\\infty$.\n",
    "    2. $f\\ in C^1$ and the gradient of $f$ is Lipschitz continuous with L.\n",
    "For a fixed $\\alpha \\in (0, \\frac{2}{L})$, $\\theta_0 \\in \\mathbb{R}^p$ arbitrary, $\\theta_{k+1} = \\theta_k - \\alpha \\nabla f(\\theta)$. Then,\n",
    "\n",
    "$$\\nabla f(\\theta_k) \\to 0$$"
   ]
  },
  {
   "cell_type": "markdown",
   "metadata": {},
   "source": [
    "<font color=brown>**Lemmas: Local Convergence Rates**</font> \n",
    "\n",
    "Let $f: \\mathbb{R}^P \\rightarrow \\mathbb{R}$:\n",
    "\n",
    "    1. $f$ is strong convex with $\\sigma > 0$\n",
    "    2. $f \\in C^1$ and Lipschitz $L>0$\n",
    "    3. For $\\alpha \\in (0, \\frac{2}{L})$, $\\theta_0 \\in \\mathbb{R}^p$,$\\theta_{k+1} = \\theta_k - \\alpha \\nabla f(\\theta)$\n",
    "\n",
    "Then,\n",
    "\n",
    "    1. $\\exists$ unique global minimizer $\\theta^*$\n",
    "    2. $||\\theta_k - \\theta^*||_2 \\to \\theta$\n",
    "    3. $||\\theta_k - \\theta^*||_2 converges Q-Linear$"
   ]
  },
  {
   "cell_type": "markdown",
   "metadata": {},
   "source": [
    "<font color=blue>**HW Problem:**\n",
    "    \n",
    "    <br> \n",
    "    f is convex and $C^2$, Lipchitz gradien $L>0$ $\\implies$ $\\nabla f(x)  \\preceq LI$\n",
    "</font>  "
   ]
  },
  {
   "cell_type": "markdown",
   "metadata": {},
   "source": [
    "<font color=darkgreen>**My solution:**\n",
    "</font> \n",
    "\n",
    "Use this result:\n",
    "\n",
    "Suppose $f \\in C^1$ convex, The following are equivalent\n",
    "\n",
    "1. $\\nabla f(x)$ is Lipschitz continuous $L > 0$\n",
    "\n",
    "2. For any $x, y \\in \\mathbb{R}^P$, $$0 \\leq f(y) - f(x) - \\nabla f(x)^T(y-x) \\leq \\frac{L}{2}||y-x||_2^2$$\n",
    "\n",
    "Apply the previous lemma:\n",
    "\n",
    "$$f(x + \\alpha p) - f(x) - \\nabla f(x)^T\\alpha p \\leq  \\frac{L}{2}||\\alpha p||_2^2$$\n",
    "\n",
    "Apply the Taylor theorem, for some $\\gamma \\in (0,1)$:\n",
    "\n",
    "$$f(x + \\alpha p) - f(x) - \\nabla f(x)^T\\alpha p = \\frac{\\alpha^2}{2}p^T \\nabla^2f(x + \\gamma \\alpha p)p$$\n",
    "\n",
    "Thus,\n",
    "\n",
    "$$\\frac{\\alpha^2}{2}p^T \\nabla^2f(x + \\gamma \\alpha p)p \\leq \\frac{L}{2}||\\alpha p||_2^2$$\n",
    "\n",
    "$\\iff$\n",
    "\n",
    "$$p^T \\nabla^2f(x + \\gamma \\alpha p)p \\leq L||p||_2^2$$\n",
    "\n",
    "By letting $\\alpha \\to 0$, we get:\n",
    "\n",
    "$$p^T \\nabla^2f(x)p \\leq L||p||_2^2$$\n"
   ]
  },
  {
   "cell_type": "markdown",
   "metadata": {},
   "source": [
    "**Further results refer to:**\n",
    "\n",
    "OD_chap2.pdf of CS 726\n",
    "\n",
    "https://xingyuzhou.org/blog/notes/Lipschitz-gradient\n",
    "\n",
    "http://xingyuzhou.org/blog/notes/strong-convexity"
   ]
  },
  {
   "cell_type": "markdown",
   "metadata": {},
   "source": [
    "# Lecture18"
   ]
  },
  {
   "cell_type": "markdown",
   "metadata": {},
   "source": [
    "<font color=blue>**HW Problem: Cauchy Point**\n",
    "    \n",
    "    <br> \n",
    "Show that the solution for the trust region problem is:\n",
    "\n",
    "$$\\alpha_k = \\begin{cases}\n",
    "  \\min (\\frac{g_k^Tg_k}{g_k^TB_kg_k}, \\frac{\\Delta_k}{||g_k||_2})& \\text{if}\\,g_k^TB_kg_k > 0)\\\\    \n",
    "  \\frac{\\Delta_k}{||g_k||_2}    & \\text{if}\\, g_k^TB_kg_k \\leq 0\n",
    "\\end{cases}$$\n",
    "\n",
    "</font>  "
   ]
  },
  {
   "cell_type": "markdown",
   "metadata": {},
   "source": [
    "<font color=darkgreen>**My solution:**\n",
    "</font> \n",
    "\n",
    "$$\\begin{align} \n",
    "m(\\alpha) &= f_k + g_k^T(-\\alpha g_k) + \\frac{1}{2}(-\\alpha g_k)^TB_k(-\\alpha g_k) \\\\\n",
    "&= \\frac{1}{2} g_k^TB_kg_k \\alpha^2 - g_k^Tg_k \\alpha + f_k\n",
    "\\end{align}$$\n",
    "\n",
    "This is a quadratic function for $\\alpha$. We consider two cases. \n",
    "\n",
    "1. $g_k^TB_kg_k \\leq 0$, then $m(\\alpha)$ decreases monotonically with $\\alpha$. So $\\alpha$ is simply the largest value that satisfies the trust-region bound, namesly $ \\frac{\\Delta_k}{||g_k||_2}$\n",
    "\n",
    "2. $g_k^TB_kg_k > 0$, for this case, $m(\\alpha)$ is a convex quadratic function in $\\alpha$, so $\\alpha$ is either the unconstrained minimier, $\\frac{g_k^Tg_k}{g_k^TB_kg_k}$, or the boundary value $ \\frac{\\Delta_k}{||g_k||_2}$, whichever comes first.\n"
   ]
  },
  {
   "cell_type": "code",
   "execution_count": null,
   "metadata": {},
   "outputs": [],
   "source": []
  },
  {
   "cell_type": "code",
   "execution_count": null,
   "metadata": {},
   "outputs": [],
   "source": []
  },
  {
   "cell_type": "code",
   "execution_count": null,
   "metadata": {},
   "outputs": [],
   "source": []
  },
  {
   "cell_type": "code",
   "execution_count": null,
   "metadata": {},
   "outputs": [],
   "source": []
  }
 ],
 "metadata": {
  "kernelspec": {
   "display_name": "Julia 1.0.0",
   "language": "julia",
   "name": "julia-1.0"
  },
  "language_info": {
   "file_extension": ".jl",
   "mimetype": "application/julia",
   "name": "julia",
   "version": "1.0.0"
  }
 },
 "nbformat": 4,
 "nbformat_minor": 2
}
