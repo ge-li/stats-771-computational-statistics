{
 "cells": [
  {
   "cell_type": "markdown",
   "metadata": {},
   "source": [
    "# Lecture 9"
   ]
  },
  {
   "cell_type": "markdown",
   "metadata": {},
   "source": [
    "## Iterative Methods\n",
    "\n",
    "### 0.Overview\n",
    "\n",
    "    A. References \n",
    "        \n",
    "        1. Golub + Valn Loan\n",
    "        2. Saad 2000, Sparse System\n",
    "        3. Shewchuk 1994, Intro to conjugated Gradients without the agonizing pain\n",
    "        4. Gower + Richtarik Randomized Interactive Methods for Linear System 2015\n",
    "    \n",
    "    B. Outline\n",
    "        \n",
    "        1. Motivate iterative methods\n",
    "        2. Splitting methods\n",
    "        3. Sparse Randomized Kaczmarz Method\n",
    "        4. Gradient Descent\n",
    "        5. Conjugate Gradients\n",
    "        6. GMRES (Gerneral...residual) (optional)\n",
    "\n",
    "### I. Motivation\n",
    "\n",
    "$Ax = b$, where $A$ is sparse\n",
    "\n",
    "### II. Splitting methods\n",
    "\n",
    "Let $x^c$ denote current iterate and $x^+$ denote next iterate. \n",
    "\n",
    "$r^c = Ax^c - b$ current residual; $r^+ = Ax^+ - b$ next residual.\n",
    "\n",
    "$A = D - E - F$\n",
    "    - $D$ is the diagonal entries of A\n",
    "    - $E$ is the negative lower triangular matrix of A\n",
    "    - $F$ is the negative upper triangular matrix of A\n",
    "\n",
    "<font color=brown>**Example:**</font>\n",
    "\n",
    "$\\begin{bmatrix} 3 & 6 & 9\\\\ 2 & 4 & 8 \\\\ 5 & 13 & 9  \\end{bmatrix} = \\begin{bmatrix} 3 & 0 & 0\\\\ 0 & 4 & 0 \\\\ 0 & 0 & 9  \\end{bmatrix} + \\begin{bmatrix} 0 & 0 & 9\\\\ -2 & 0 & 0 \\\\ -5 & -13 & 0  \\end{bmatrix} + \\begin{bmatrix} 0 & -6 & -9\\\\ 0 & 0 & -8 \\\\ 0 & 0 & 0  \\end{bmatrix}$\n"
   ]
  },
  {
   "cell_type": "markdown",
   "metadata": {},
   "source": [
    "#### A. Jacobi Method\n",
    "\n",
    "Let ${e_j}$ be the standard basis in $R^d$. \n",
    "\n",
    "<font color=brown>**Basic Idea:**</font>set $r_i^+$ to zero.\n",
    "\n",
    "<font color=black>\n",
    "$$0 = r_i^+ = b_i - \\sum_{k = 1, k\\neq i}^{d} A_{ik}x_k^c - A_{ii}x_i$$\n",
    "$$ \\implies A_{ii}x_i^+ = b_i - \\sum_{k = 1, k\\neq i}^{d} A_{ik}x_k^c $$\n",
    "$$ \\implies x_i^+ = \\frac{1}{A_{ii}}(b_i - \\sum_{k = 1, k\\neq i}^{d} A_{ik}x_k^c) $$\n",
    "$$ \\iff x_i^+ = \\frac{1}{A_{ii}}(b_i + \\sum_{k = 1}^{i-1} E_{ik}x_k^c) + \\sum_{k = i+1}^{d} F_{ik}x_k^c) $$\n",
    "$$\\iff X^+ = D^{-1}(b + (E+F)X^c)$$\n",
    "</font>"
   ]
  },
  {
   "cell_type": "markdown",
   "metadata": {},
   "source": [
    "#### B. Gauss-Seidel\n",
    "\n",
    "<font color=brown>**Basic Idea:**</font>:set $r_i^+ = 0$, $x_i^+ \\,\\,\\,from \\,\\,\\, x_i^c$\n",
    "\n",
    "<font color=black>\n",
    "$$0 = r_i^+ = b_i -  \\sum_{k = 1}^{i-1} A_{ik}x_k^+) + \\sum_{k = i+1}^{d} A_{ik}x_k^c) - A_{ii}x_i$$\n",
    "$$ \\iff x_i^+ = \\frac{1}{D_{ii}}(b_i + \\sum_{k = 1}^{i-1} E_{ik}x_k^+) + \\sum_{k = i+1}^{d} F_{ik}x_k^c) $$\n",
    "$$\\iff X^+ = D^{-1}(b + EX^+ +FX^c)$$\n",
    "$$\\iff X^+ = (D-E)^{-1}(b +FX^c)$$\n",
    "</font>"
   ]
  },
  {
   "cell_type": "markdown",
   "metadata": {},
   "source": [
    "#### C. Successive Over Relaxation\n",
    "\n",
    "<font color=brown>**referemce:**</font>\n",
    "\n",
    "http://www.nhcue.edu.tw/~jinnliu/teaching/nde07/Lecture6.pdf\n",
    "\n",
    "https://math.unice.fr/~frapetti/CorsoF/cours3.pdf\n",
    "\n",
    "<font color=brown>**Definition:**</font>\n",
    "\n",
    "Successive Over Relaxation:\n",
    "$$(D-wE){x^+} = [wF + (1-w)D]x^c+wb$$\n",
    "Backward SOR: \n",
    "$$(D-wF){x^+} = [wE + (1-w)D]x^c+wb$$\n",
    "Symmetric SOR\n",
    "$$(D-wE){z} = [wF + (1-w)D]x^c+wb$$\n",
    "$$(D-wF){x^+} = [wE + (1-w)D]z+wb$$"
   ]
  },
  {
   "cell_type": "markdown",
   "metadata": {},
   "source": [
    "**HW problem:** What do we need from A to ensure that these different schemes are well-defined.\n",
    "\n",
    "**My answer:**\n",
    "\n",
    "- First the diagonal entries of matrix A can't be zeros. That is A has non-zero diagonal entries.\n",
    "- $D - E$ need to be invertible\n",
    "- $D - F$ need to be invertible\n",
    "- A is square ( a system of n linear equations with unknown x)\n",
    "- A needs to be invertible?"
   ]
  },
  {
   "cell_type": "markdown",
   "metadata": {},
   "source": [
    "### Convergence.\n",
    "\n",
    "$x^+ = Gx^c + f$\n",
    "- Jacob: $G = D^{-1}(E+F),\\,\\,\\, f = D^{-1}b$\n",
    "- Gauss-Seidel: $G = (D-E)^{-1}F, \\,\\,\\, f = (D-E)^{-1}b$\n",
    "- Successive Over Relaxation: $G = (D-wE)^{-1}(wF + (1-w)D), \\,\\,\\, f = w(D-wE)^{-1}b$\n",
    "\n",
    "$x^*$ such that $Ax^* = b$\n",
    "- Jacob: $f = D^{-1}b = D^{-1}Ax^* = D^{-1}(D - E - F)x^* = (I - G)x^*$\n",
    "- Gauss-Seidel: $f = (D-E)^{-1}b = (D-E)^{-1}Ax^* = (I - G)x^*$\n",
    "- Successive Over Relaxation: $f = w(D-wE)^{-1}b = w(D-wE)^{-1}Ax^* = (D-wE)^{-1}(wD-wE-wF)x^* = (D-wE)^{-1}(D-wE-((1-w)D +wF))x^* = (I - G)x^*$"
   ]
  },
  {
   "cell_type": "markdown",
   "metadata": {},
   "source": [
    "<font color=brown>**Lemma:**</font> \n",
    "For Jacobi, GS, SOR, $\\exists x^*$ s.t. $Ax^* = b$ then \n",
    "$$x^+ - x^* = G(x^c - x^*)$$\n",
    "\n",
    "** proof: **\n",
    "$$x^+ = Gx^c + f = Gx^c + (I-G)x^*$$\n",
    "rearrange:\n",
    "$$x^+ - x^* = G(x^c - x^*)$$\n"
   ]
  },
  {
   "cell_type": "markdown",
   "metadata": {},
   "source": [
    "<font color=brown>**Theorem:**</font> \n",
    "Suppose $\\exists x^*$ s.t. $Ax^* = b$ Let $x_0$ be arbitrary define $\\{x_k, k\\in N\\}$ and $x_k = Gx_{k-1} + F$. If $p(G) < 1$, then $x^*$ is unique and $x_k \\rightarrow x^*$"
   ]
  },
  {
   "cell_type": "markdown",
   "metadata": {},
   "source": [
    "Note that: $p(G)$ is the largest module of the eigenvalues of G"
   ]
  },
  {
   "cell_type": "markdown",
   "metadata": {},
   "source": [
    "**HW problem:** Does this lemma hold for SSOR?\n",
    "\n",
    "**My answer:**\n",
    "Yes, this lemma hold for SSOR.\n",
    "\n",
    "Symmetric SOR:\n",
    "$$(D-wE){z} = [wF + (1-w)D]x^c+wb$$\n",
    "$$(D-wF){x^+} = [wE + (1-w)D]z+wb$$\n",
    "\n",
    "With a little algebra, we can get:\n",
    "$$x^+ = (D-wF)^{-1}[wE + (1-w)D](D-wE)^{-1}[wF + (1-w)D]x^c + (D-wF)^{-1}[wE + (1-w)D](D-wE)^{-1}wb + (D-wF)^{-1}wb$$\n",
    "$$\\iff x^+ = (D-wF)^{-1}[wE + (1-w)D](D-wE)^{-1}[wF + (1-w)D]x^c + (2-w)w(D-wF)^{-1}D(D-wE)^{-1}b$$\n",
    "\n",
    "Thus, $$G = (D-wF)^{-1}[wE + (1-w)D](D-wE)^{-1}[wF + (1-w)D]$$  $$f = (2-w)w(D-wF)^{-1}D(D-wE)^{-1}b$$\n",
    "\n",
    "or \n",
    "\n",
    "$$G = (D-wF)^{-1}[wE + (1-w)D](D-wE)^{-1}[wF + (1-w)D]$$  $$f = (D-wF)^{-1}[wE + (1-w)D](D-wE)^{-1}wb + (D-wF)^{-1}wb$$\n",
    "\n",
    "we will use the second form to prove that if $\\exists x^*$ s.t. $Ax^* = b$, then $f = (I - G)x^*$\n",
    "\n",
    "$\\begin{align} f &= \\{(D-wF)^{-1}[wE + (1-w)D](D-wE)^{-1} + (D-wF)^{-1}\\}wb \\\\\n",
    "& =  \\{(D-wF)^{-1}[wE + (1-w)D](D-wE)^{-1} + (D-wF)^{-1}\\}w(D-E-F)x^* \\\\\n",
    "& = (D-wF)^{-1}[wE + (1-w)D](D-wE)^{-1}(wD-wE-wF)x^* + (D-wF)^{-1}(wD-wE-wF)x^* \\\\\n",
    "& = (D-wF)^{-1}[wE + (1-w)D](D-wE)^{-1}(-wF - (1-w)D+ D - wE)x^* + (D-wF)^{-1}(wD-wE-wF)x^* \\\\\n",
    "& = -Gx^* + (D-wF)^{-1}[wE + (1-w)D](D-wE)^{-1}(D-wE)x^*+ (D-wF)^{-1}(wD-wE-wF)x^* \\\\\n",
    "& = -Gx^* + (D-wF)^{-1}(wE + (1-w)D + wD -wE-wF)x^* \\\\ \n",
    "& = (I - G)x^*\n",
    "\\end{align}$\n",
    "\n",
    "Thus, the lemma holds for SSOR"
   ]
  },
  {
   "cell_type": "markdown",
   "metadata": {},
   "source": [
    "<font color=brown>**Definition: Jordan Canonical Form**</font>\n",
    "A suqre matrix $A \\in R^{n \\times n}$. $\\exists X$ invertible and a block diag matrix $J$ whose blocks are $\\lambda I + E$, where $\\lambda$ is an eigenvalue of A and $E = \\{ \\begin{array}{rl} 1, & j = i+1 \\\\ 0, & \\text{ otherwise} \\end{array} $ such that $A = XJX^{-1}$"
   ]
  },
  {
   "cell_type": "markdown",
   "metadata": {},
   "source": [
    "**HW problem:** Compute $J^k$ where $J = \\lambda I + E$. Show that if $G = XJX^{-1}$ and $P(G) < 1$ then $J^k \\rightarrow 0$ as $k \\rightarrow \\infty$"
   ]
  },
  {
   "cell_type": "markdown",
   "metadata": {},
   "source": [
    "**My answer:**\n",
    "\n",
    "From previous lemma and theorem we know that:\n",
    "$$x_k \\rightarrow x^*$$ \n",
    "$$x^{k+1} - x^* = G(x^k - x^*)$$\n",
    "which means that:\n",
    "$G^k \\rightarrow 0$ as $k \\rightarrow \\infty$ \n",
    "\n",
    "However,\n",
    "$$G^k = (XJX^{-1})^k = XJ^kX^{-1}$$\n",
    "Thus,\n",
    "$G^k \\rightarrow 0$ as $k \\rightarrow \\infty$ $\\iff$ $J^k \\rightarrow 0$ as $k \\rightarrow \\infty$"
   ]
  },
  {
   "cell_type": "code",
   "execution_count": null,
   "metadata": {},
   "outputs": [],
   "source": []
  }
 ],
 "metadata": {
  "kernelspec": {
   "display_name": "Julia 1.0.0",
   "language": "julia",
   "name": "julia-1.0"
  },
  "language_info": {
   "file_extension": ".jl",
   "mimetype": "application/julia",
   "name": "julia",
   "version": "1.0.0"
  }
 },
 "nbformat": 4,
 "nbformat_minor": 2
}
